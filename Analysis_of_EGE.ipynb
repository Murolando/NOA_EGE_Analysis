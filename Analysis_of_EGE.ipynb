{
  "nbformat": 4,
  "nbformat_minor": 0,
  "metadata": {
    "colab": {
      "name": "Анализ Школьников.ipynb",
      "provenance": [],
      "collapsed_sections": [
        "Mht4qzSIvJRK",
        "8gpLnAvpFZk2",
        "6A-1ZS022GDO",
        "vImyWtLf--P9",
        "NZGpYnOHDfUo",
        "dCwkGNDyDi2N",
        "V8AyZODRIqBl",
        "TxEA3hopqQbI",
        "1GI7lObgv5HV",
        "uYRwjE2QqpGk",
        "wIiwNByt6CWU",
        "FlmTY_Hq_7Bd",
        "h6PKy4n2IMZk",
        "uKOk-LDGFXDq",
        "ecANQjR_H9Qw",
        "dbG4XAFbMJlu",
        "13zIwF7wJJy8",
        "n7MXW760HmMa",
        "ARs3QaqiGbh-",
        "nF7u8yXWH20o",
        "344FD8aNFL9z",
        "r3Q-3hPjGDjg",
        "4cCrppTAGD8X"
      ],
      "include_colab_link": true
    },
    "kernelspec": {
      "name": "python3",
      "display_name": "Python 3"
    },
    "language_info": {
      "name": "python"
    }
  },
  "cells": [
    {
      "cell_type": "markdown",
      "metadata": {
        "id": "view-in-github",
        "colab_type": "text"
      },
      "source": [
        "<a href=\"https://colab.research.google.com/github/Murolando/NOA_EGE_analytics/blob/main/Analysis_of_EGE.ipynb\" target=\"_parent\"><img src=\"https://colab.research.google.com/assets/colab-badge.svg\" alt=\"Open In Colab\"/></a>"
      ]
    },
    {
      "cell_type": "code",
      "execution_count": 97,
      "metadata": {
        "id": "OCPp4bReuOht"
      },
      "outputs": [],
      "source": [
        "import pandas as pd\n",
        "import numpy as np\n",
        "\n",
        "import matplotlib.pyplot as plt\n",
        "import seaborn as sns"
      ]
    },
    {
      "cell_type": "code",
      "source": [
        "from google.colab import drive\n",
        "drive.mount('/content/drive')"
      ],
      "metadata": {
        "colab": {
          "base_uri": "https://localhost:8080/"
        },
        "id": "pE5GIABKTu3g",
        "outputId": "83ef1b64-000b-4192-86fd-27abc423d5c1"
      },
      "execution_count": 98,
      "outputs": [
        {
          "output_type": "stream",
          "name": "stdout",
          "text": [
            "Drive already mounted at /content/drive; to attempt to forcibly remount, call drive.mount(\"/content/drive\", force_remount=True).\n"
          ]
        }
      ]
    },
    {
      "cell_type": "markdown",
      "source": [
        "# Анализ данных результатов ЕГЭ по информатике,  в РСО - Алании, за 2019-2021 года."
      ],
      "metadata": {
        "id": "Mht4qzSIvJRK"
      }
    },
    {
      "cell_type": "code",
      "source": [
        "df_21_inf = pd.read_excel('/content/drive/MyDrive/Ege Banditi/Rez_EGE.xlsx',sheet_name=2)"
      ],
      "metadata": {
        "id": "VFpdMYI6ktW4"
      },
      "execution_count": 99,
      "outputs": []
    },
    {
      "cell_type": "code",
      "source": [
        "df_20_inf = pd.read_excel('/content/drive/MyDrive/Ege Banditi/Rez_EGE.xlsx',sheet_name=4)"
      ],
      "metadata": {
        "id": "dwfHMIJwkuLW"
      },
      "execution_count": 100,
      "outputs": []
    },
    {
      "cell_type": "code",
      "source": [
        "df_19_inf = pd.read_excel('/content/drive/MyDrive/Ege Banditi/Rez_EGE.xlsx',sheet_name=6)"
      ],
      "metadata": {
        "id": "JiL29vCJuWhq"
      },
      "execution_count": 101,
      "outputs": []
    },
    {
      "cell_type": "code",
      "source": [
        "df_21_inf.head()"
      ],
      "metadata": {
        "id": "njWugGKpa5FA",
        "colab": {
          "base_uri": "https://localhost:8080/",
          "height": 404
        },
        "outputId": "387f6833-fccb-4a37-ee9d-e872bd56f83e"
      },
      "execution_count": 102,
      "outputs": [
        {
          "output_type": "execute_result",
          "data": {
            "text/plain": [
              "     МСУ  Код предмета    ППЭ        ОО  Вариант  \\\n",
              "0  100.0          25.0  141.0  301148.0    327.0   \n",
              "1  100.0          25.0  170.0  301138.0    325.0   \n",
              "2  200.0          25.0  301.0  301203.0    363.0   \n",
              "3    1.0          25.0  170.0  201801.0    504.0   \n",
              "4    1.0          25.0  128.0  201808.0    366.0   \n",
              "\n",
              "                              В   С Первич  100.0       Дата  ...  18.0 19.0  \\\n",
              "0   +++-++--+---+--+--------000 NaN    8.0   45.0 2021-06-24  ...     -    -   \n",
              "1   +++++++++++++++++++-++--200 NaN   23.0   83.0 2021-06-24  ...     +    +   \n",
              "2   ++------+---------+-----000 NaN    4.0   27.0 2021-06-25  ...     -    +   \n",
              "3   +-++++++-----++-+-++--+-000 NaN   13.0   58.0 2021-07-02  ...     -    +   \n",
              "4   +----+-++++++++++++--++-000 NaN   16.0   65.0 2021-06-25  ...     +    +   \n",
              "\n",
              "  20.0  21.0 22.0 23.0 24.0 25.0 26.0 27.0  \n",
              "0    -     -    -    -    -  0.0  0.0  0.0  \n",
              "1    -     +    +    -    -  2.0  0.0  0.0  \n",
              "2    -     -    -    -    -  0.0  0.0  0.0  \n",
              "3    +     -    -    +    -  0.0  0.0  0.0  \n",
              "4    -     -    +    +    -  0.0  0.0  0.0  \n",
              "\n",
              "[5 rows x 43 columns]"
            ],
            "text/html": [
              "\n",
              "  <div id=\"df-610e6ddd-dc7d-4eeb-b497-0625474313e3\">\n",
              "    <div class=\"colab-df-container\">\n",
              "      <div>\n",
              "<style scoped>\n",
              "    .dataframe tbody tr th:only-of-type {\n",
              "        vertical-align: middle;\n",
              "    }\n",
              "\n",
              "    .dataframe tbody tr th {\n",
              "        vertical-align: top;\n",
              "    }\n",
              "\n",
              "    .dataframe thead th {\n",
              "        text-align: right;\n",
              "    }\n",
              "</style>\n",
              "<table border=\"1\" class=\"dataframe\">\n",
              "  <thead>\n",
              "    <tr style=\"text-align: right;\">\n",
              "      <th></th>\n",
              "      <th>МСУ</th>\n",
              "      <th>Код предмета</th>\n",
              "      <th>ППЭ</th>\n",
              "      <th>ОО</th>\n",
              "      <th>Вариант</th>\n",
              "      <th>В</th>\n",
              "      <th>С</th>\n",
              "      <th>Первич</th>\n",
              "      <th>100.0</th>\n",
              "      <th>Дата</th>\n",
              "      <th>...</th>\n",
              "      <th>18.0</th>\n",
              "      <th>19.0</th>\n",
              "      <th>20.0</th>\n",
              "      <th>21.0</th>\n",
              "      <th>22.0</th>\n",
              "      <th>23.0</th>\n",
              "      <th>24.0</th>\n",
              "      <th>25.0</th>\n",
              "      <th>26.0</th>\n",
              "      <th>27.0</th>\n",
              "    </tr>\n",
              "  </thead>\n",
              "  <tbody>\n",
              "    <tr>\n",
              "      <th>0</th>\n",
              "      <td>100.0</td>\n",
              "      <td>25.0</td>\n",
              "      <td>141.0</td>\n",
              "      <td>301148.0</td>\n",
              "      <td>327.0</td>\n",
              "      <td>+++-++--+---+--+--------000</td>\n",
              "      <td>NaN</td>\n",
              "      <td>8.0</td>\n",
              "      <td>45.0</td>\n",
              "      <td>2021-06-24</td>\n",
              "      <td>...</td>\n",
              "      <td>-</td>\n",
              "      <td>-</td>\n",
              "      <td>-</td>\n",
              "      <td>-</td>\n",
              "      <td>-</td>\n",
              "      <td>-</td>\n",
              "      <td>-</td>\n",
              "      <td>0.0</td>\n",
              "      <td>0.0</td>\n",
              "      <td>0.0</td>\n",
              "    </tr>\n",
              "    <tr>\n",
              "      <th>1</th>\n",
              "      <td>100.0</td>\n",
              "      <td>25.0</td>\n",
              "      <td>170.0</td>\n",
              "      <td>301138.0</td>\n",
              "      <td>325.0</td>\n",
              "      <td>+++++++++++++++++++-++--200</td>\n",
              "      <td>NaN</td>\n",
              "      <td>23.0</td>\n",
              "      <td>83.0</td>\n",
              "      <td>2021-06-24</td>\n",
              "      <td>...</td>\n",
              "      <td>+</td>\n",
              "      <td>+</td>\n",
              "      <td>-</td>\n",
              "      <td>+</td>\n",
              "      <td>+</td>\n",
              "      <td>-</td>\n",
              "      <td>-</td>\n",
              "      <td>2.0</td>\n",
              "      <td>0.0</td>\n",
              "      <td>0.0</td>\n",
              "    </tr>\n",
              "    <tr>\n",
              "      <th>2</th>\n",
              "      <td>200.0</td>\n",
              "      <td>25.0</td>\n",
              "      <td>301.0</td>\n",
              "      <td>301203.0</td>\n",
              "      <td>363.0</td>\n",
              "      <td>++------+---------+-----000</td>\n",
              "      <td>NaN</td>\n",
              "      <td>4.0</td>\n",
              "      <td>27.0</td>\n",
              "      <td>2021-06-25</td>\n",
              "      <td>...</td>\n",
              "      <td>-</td>\n",
              "      <td>+</td>\n",
              "      <td>-</td>\n",
              "      <td>-</td>\n",
              "      <td>-</td>\n",
              "      <td>-</td>\n",
              "      <td>-</td>\n",
              "      <td>0.0</td>\n",
              "      <td>0.0</td>\n",
              "      <td>0.0</td>\n",
              "    </tr>\n",
              "    <tr>\n",
              "      <th>3</th>\n",
              "      <td>1.0</td>\n",
              "      <td>25.0</td>\n",
              "      <td>170.0</td>\n",
              "      <td>201801.0</td>\n",
              "      <td>504.0</td>\n",
              "      <td>+-++++++-----++-+-++--+-000</td>\n",
              "      <td>NaN</td>\n",
              "      <td>13.0</td>\n",
              "      <td>58.0</td>\n",
              "      <td>2021-07-02</td>\n",
              "      <td>...</td>\n",
              "      <td>-</td>\n",
              "      <td>+</td>\n",
              "      <td>+</td>\n",
              "      <td>-</td>\n",
              "      <td>-</td>\n",
              "      <td>+</td>\n",
              "      <td>-</td>\n",
              "      <td>0.0</td>\n",
              "      <td>0.0</td>\n",
              "      <td>0.0</td>\n",
              "    </tr>\n",
              "    <tr>\n",
              "      <th>4</th>\n",
              "      <td>1.0</td>\n",
              "      <td>25.0</td>\n",
              "      <td>128.0</td>\n",
              "      <td>201808.0</td>\n",
              "      <td>366.0</td>\n",
              "      <td>+----+-++++++++++++--++-000</td>\n",
              "      <td>NaN</td>\n",
              "      <td>16.0</td>\n",
              "      <td>65.0</td>\n",
              "      <td>2021-06-25</td>\n",
              "      <td>...</td>\n",
              "      <td>+</td>\n",
              "      <td>+</td>\n",
              "      <td>-</td>\n",
              "      <td>-</td>\n",
              "      <td>+</td>\n",
              "      <td>+</td>\n",
              "      <td>-</td>\n",
              "      <td>0.0</td>\n",
              "      <td>0.0</td>\n",
              "      <td>0.0</td>\n",
              "    </tr>\n",
              "  </tbody>\n",
              "</table>\n",
              "<p>5 rows × 43 columns</p>\n",
              "</div>\n",
              "      <button class=\"colab-df-convert\" onclick=\"convertToInteractive('df-610e6ddd-dc7d-4eeb-b497-0625474313e3')\"\n",
              "              title=\"Convert this dataframe to an interactive table.\"\n",
              "              style=\"display:none;\">\n",
              "        \n",
              "  <svg xmlns=\"http://www.w3.org/2000/svg\" height=\"24px\"viewBox=\"0 0 24 24\"\n",
              "       width=\"24px\">\n",
              "    <path d=\"M0 0h24v24H0V0z\" fill=\"none\"/>\n",
              "    <path d=\"M18.56 5.44l.94 2.06.94-2.06 2.06-.94-2.06-.94-.94-2.06-.94 2.06-2.06.94zm-11 1L8.5 8.5l.94-2.06 2.06-.94-2.06-.94L8.5 2.5l-.94 2.06-2.06.94zm10 10l.94 2.06.94-2.06 2.06-.94-2.06-.94-.94-2.06-.94 2.06-2.06.94z\"/><path d=\"M17.41 7.96l-1.37-1.37c-.4-.4-.92-.59-1.43-.59-.52 0-1.04.2-1.43.59L10.3 9.45l-7.72 7.72c-.78.78-.78 2.05 0 2.83L4 21.41c.39.39.9.59 1.41.59.51 0 1.02-.2 1.41-.59l7.78-7.78 2.81-2.81c.8-.78.8-2.07 0-2.86zM5.41 20L4 18.59l7.72-7.72 1.47 1.35L5.41 20z\"/>\n",
              "  </svg>\n",
              "      </button>\n",
              "      \n",
              "  <style>\n",
              "    .colab-df-container {\n",
              "      display:flex;\n",
              "      flex-wrap:wrap;\n",
              "      gap: 12px;\n",
              "    }\n",
              "\n",
              "    .colab-df-convert {\n",
              "      background-color: #E8F0FE;\n",
              "      border: none;\n",
              "      border-radius: 50%;\n",
              "      cursor: pointer;\n",
              "      display: none;\n",
              "      fill: #1967D2;\n",
              "      height: 32px;\n",
              "      padding: 0 0 0 0;\n",
              "      width: 32px;\n",
              "    }\n",
              "\n",
              "    .colab-df-convert:hover {\n",
              "      background-color: #E2EBFA;\n",
              "      box-shadow: 0px 1px 2px rgba(60, 64, 67, 0.3), 0px 1px 3px 1px rgba(60, 64, 67, 0.15);\n",
              "      fill: #174EA6;\n",
              "    }\n",
              "\n",
              "    [theme=dark] .colab-df-convert {\n",
              "      background-color: #3B4455;\n",
              "      fill: #D2E3FC;\n",
              "    }\n",
              "\n",
              "    [theme=dark] .colab-df-convert:hover {\n",
              "      background-color: #434B5C;\n",
              "      box-shadow: 0px 1px 3px 1px rgba(0, 0, 0, 0.15);\n",
              "      filter: drop-shadow(0px 1px 2px rgba(0, 0, 0, 0.3));\n",
              "      fill: #FFFFFF;\n",
              "    }\n",
              "  </style>\n",
              "\n",
              "      <script>\n",
              "        const buttonEl =\n",
              "          document.querySelector('#df-610e6ddd-dc7d-4eeb-b497-0625474313e3 button.colab-df-convert');\n",
              "        buttonEl.style.display =\n",
              "          google.colab.kernel.accessAllowed ? 'block' : 'none';\n",
              "\n",
              "        async function convertToInteractive(key) {\n",
              "          const element = document.querySelector('#df-610e6ddd-dc7d-4eeb-b497-0625474313e3');\n",
              "          const dataTable =\n",
              "            await google.colab.kernel.invokeFunction('convertToInteractive',\n",
              "                                                     [key], {});\n",
              "          if (!dataTable) return;\n",
              "\n",
              "          const docLinkHtml = 'Like what you see? Visit the ' +\n",
              "            '<a target=\"_blank\" href=https://colab.research.google.com/notebooks/data_table.ipynb>data table notebook</a>'\n",
              "            + ' to learn more about interactive tables.';\n",
              "          element.innerHTML = '';\n",
              "          dataTable['output_type'] = 'display_data';\n",
              "          await google.colab.output.renderOutput(dataTable, element);\n",
              "          const docLink = document.createElement('div');\n",
              "          docLink.innerHTML = docLinkHtml;\n",
              "          element.appendChild(docLink);\n",
              "        }\n",
              "      </script>\n",
              "    </div>\n",
              "  </div>\n",
              "  "
            ]
          },
          "metadata": {},
          "execution_count": 102
        }
      ]
    },
    {
      "cell_type": "code",
      "source": [
        "df_20_inf.head()"
      ],
      "metadata": {
        "id": "4jIFHmG_a5T5",
        "colab": {
          "base_uri": "https://localhost:8080/",
          "height": 458
        },
        "outputId": "caf3b754-4298-4658-e572-270014bb986c"
      },
      "execution_count": 103,
      "outputs": [
        {
          "output_type": "execute_result",
          "data": {
            "text/plain": [
              "     МСУ  Код предмета    ППЭ        ОО  Вариант                         В  \\\n",
              "0  700.0           5.0  708.0  301708.0    342.0   +-+++++++-+-+++--------   \n",
              "1  700.0           5.0  708.0  301708.0    340.0   ++++-+++--+---+-++++---   \n",
              "2  700.0           5.0  708.0  302701.0    343.0   ----+++++-+++++-++-----   \n",
              "3  400.0           5.0  142.0  301402.0    342.0   ++-+++++--------+------   \n",
              "4  100.0           5.0  114.0  301138.0    106.0   +-+-+--+++++++--++---+-   \n",
              "\n",
              "                  С  Первич  100.0       Дата  Аудитория Место  OB3  Пол  \\\n",
              "0  3(3)0(2)3(3)0(4)    18.0   62.0 2020-07-03        1.0   2:А  0.0  0.0   \n",
              "1  3(3)2(2)3(3)3(4)    24.0   73.0 2020-07-03        1.0   4:А  0.0  0.0   \n",
              "2  3(3)2(2)1(3)2(4)    20.0   66.0 2020-07-03        1.0   1:В  0.0  0.0   \n",
              "3  0(3)0(2)0(3)0(4)     8.0   44.0 2020-07-03        5.0   1:А  0.0  0.0   \n",
              "4  3(3)2(2)2(3)0(4)    20.0   66.0 2020-07-24        3.0   1:В  0.0  0.0   \n",
              "\n",
              "              Район                            Кратое название  ОУ  \n",
              "0  Моздокский район                           МБОУ СОШ №8 г.Моздок  \n",
              "1  Моздокский район                           МБОУ СОШ №8 г.Моздок  \n",
              "2  Моздокский район  МБОУ СОШ №1 г.Моздок с угл. изуч. англ. языка  \n",
              "3   Дигорский район                           МКОУ СОШ №2 г.Дигора  \n",
              "4    г. Владикавказ                                   МБОУ СОШ №38  "
            ],
            "text/html": [
              "\n",
              "  <div id=\"df-77f96efb-b390-4c16-8448-ba1b0cf8d343\">\n",
              "    <div class=\"colab-df-container\">\n",
              "      <div>\n",
              "<style scoped>\n",
              "    .dataframe tbody tr th:only-of-type {\n",
              "        vertical-align: middle;\n",
              "    }\n",
              "\n",
              "    .dataframe tbody tr th {\n",
              "        vertical-align: top;\n",
              "    }\n",
              "\n",
              "    .dataframe thead th {\n",
              "        text-align: right;\n",
              "    }\n",
              "</style>\n",
              "<table border=\"1\" class=\"dataframe\">\n",
              "  <thead>\n",
              "    <tr style=\"text-align: right;\">\n",
              "      <th></th>\n",
              "      <th>МСУ</th>\n",
              "      <th>Код предмета</th>\n",
              "      <th>ППЭ</th>\n",
              "      <th>ОО</th>\n",
              "      <th>Вариант</th>\n",
              "      <th>В</th>\n",
              "      <th>С</th>\n",
              "      <th>Первич</th>\n",
              "      <th>100.0</th>\n",
              "      <th>Дата</th>\n",
              "      <th>Аудитория</th>\n",
              "      <th>Место</th>\n",
              "      <th>OB3</th>\n",
              "      <th>Пол</th>\n",
              "      <th>Район</th>\n",
              "      <th>Кратое название  ОУ</th>\n",
              "    </tr>\n",
              "  </thead>\n",
              "  <tbody>\n",
              "    <tr>\n",
              "      <th>0</th>\n",
              "      <td>700.0</td>\n",
              "      <td>5.0</td>\n",
              "      <td>708.0</td>\n",
              "      <td>301708.0</td>\n",
              "      <td>342.0</td>\n",
              "      <td>+-+++++++-+-+++--------</td>\n",
              "      <td>3(3)0(2)3(3)0(4)</td>\n",
              "      <td>18.0</td>\n",
              "      <td>62.0</td>\n",
              "      <td>2020-07-03</td>\n",
              "      <td>1.0</td>\n",
              "      <td>2:А</td>\n",
              "      <td>0.0</td>\n",
              "      <td>0.0</td>\n",
              "      <td>Моздокский район</td>\n",
              "      <td>МБОУ СОШ №8 г.Моздок</td>\n",
              "    </tr>\n",
              "    <tr>\n",
              "      <th>1</th>\n",
              "      <td>700.0</td>\n",
              "      <td>5.0</td>\n",
              "      <td>708.0</td>\n",
              "      <td>301708.0</td>\n",
              "      <td>340.0</td>\n",
              "      <td>++++-+++--+---+-++++---</td>\n",
              "      <td>3(3)2(2)3(3)3(4)</td>\n",
              "      <td>24.0</td>\n",
              "      <td>73.0</td>\n",
              "      <td>2020-07-03</td>\n",
              "      <td>1.0</td>\n",
              "      <td>4:А</td>\n",
              "      <td>0.0</td>\n",
              "      <td>0.0</td>\n",
              "      <td>Моздокский район</td>\n",
              "      <td>МБОУ СОШ №8 г.Моздок</td>\n",
              "    </tr>\n",
              "    <tr>\n",
              "      <th>2</th>\n",
              "      <td>700.0</td>\n",
              "      <td>5.0</td>\n",
              "      <td>708.0</td>\n",
              "      <td>302701.0</td>\n",
              "      <td>343.0</td>\n",
              "      <td>----+++++-+++++-++-----</td>\n",
              "      <td>3(3)2(2)1(3)2(4)</td>\n",
              "      <td>20.0</td>\n",
              "      <td>66.0</td>\n",
              "      <td>2020-07-03</td>\n",
              "      <td>1.0</td>\n",
              "      <td>1:В</td>\n",
              "      <td>0.0</td>\n",
              "      <td>0.0</td>\n",
              "      <td>Моздокский район</td>\n",
              "      <td>МБОУ СОШ №1 г.Моздок с угл. изуч. англ. языка</td>\n",
              "    </tr>\n",
              "    <tr>\n",
              "      <th>3</th>\n",
              "      <td>400.0</td>\n",
              "      <td>5.0</td>\n",
              "      <td>142.0</td>\n",
              "      <td>301402.0</td>\n",
              "      <td>342.0</td>\n",
              "      <td>++-+++++--------+------</td>\n",
              "      <td>0(3)0(2)0(3)0(4)</td>\n",
              "      <td>8.0</td>\n",
              "      <td>44.0</td>\n",
              "      <td>2020-07-03</td>\n",
              "      <td>5.0</td>\n",
              "      <td>1:А</td>\n",
              "      <td>0.0</td>\n",
              "      <td>0.0</td>\n",
              "      <td>Дигорский район</td>\n",
              "      <td>МКОУ СОШ №2 г.Дигора</td>\n",
              "    </tr>\n",
              "    <tr>\n",
              "      <th>4</th>\n",
              "      <td>100.0</td>\n",
              "      <td>5.0</td>\n",
              "      <td>114.0</td>\n",
              "      <td>301138.0</td>\n",
              "      <td>106.0</td>\n",
              "      <td>+-+-+--+++++++--++---+-</td>\n",
              "      <td>3(3)2(2)2(3)0(4)</td>\n",
              "      <td>20.0</td>\n",
              "      <td>66.0</td>\n",
              "      <td>2020-07-24</td>\n",
              "      <td>3.0</td>\n",
              "      <td>1:В</td>\n",
              "      <td>0.0</td>\n",
              "      <td>0.0</td>\n",
              "      <td>г. Владикавказ</td>\n",
              "      <td>МБОУ СОШ №38</td>\n",
              "    </tr>\n",
              "  </tbody>\n",
              "</table>\n",
              "</div>\n",
              "      <button class=\"colab-df-convert\" onclick=\"convertToInteractive('df-77f96efb-b390-4c16-8448-ba1b0cf8d343')\"\n",
              "              title=\"Convert this dataframe to an interactive table.\"\n",
              "              style=\"display:none;\">\n",
              "        \n",
              "  <svg xmlns=\"http://www.w3.org/2000/svg\" height=\"24px\"viewBox=\"0 0 24 24\"\n",
              "       width=\"24px\">\n",
              "    <path d=\"M0 0h24v24H0V0z\" fill=\"none\"/>\n",
              "    <path d=\"M18.56 5.44l.94 2.06.94-2.06 2.06-.94-2.06-.94-.94-2.06-.94 2.06-2.06.94zm-11 1L8.5 8.5l.94-2.06 2.06-.94-2.06-.94L8.5 2.5l-.94 2.06-2.06.94zm10 10l.94 2.06.94-2.06 2.06-.94-2.06-.94-.94-2.06-.94 2.06-2.06.94z\"/><path d=\"M17.41 7.96l-1.37-1.37c-.4-.4-.92-.59-1.43-.59-.52 0-1.04.2-1.43.59L10.3 9.45l-7.72 7.72c-.78.78-.78 2.05 0 2.83L4 21.41c.39.39.9.59 1.41.59.51 0 1.02-.2 1.41-.59l7.78-7.78 2.81-2.81c.8-.78.8-2.07 0-2.86zM5.41 20L4 18.59l7.72-7.72 1.47 1.35L5.41 20z\"/>\n",
              "  </svg>\n",
              "      </button>\n",
              "      \n",
              "  <style>\n",
              "    .colab-df-container {\n",
              "      display:flex;\n",
              "      flex-wrap:wrap;\n",
              "      gap: 12px;\n",
              "    }\n",
              "\n",
              "    .colab-df-convert {\n",
              "      background-color: #E8F0FE;\n",
              "      border: none;\n",
              "      border-radius: 50%;\n",
              "      cursor: pointer;\n",
              "      display: none;\n",
              "      fill: #1967D2;\n",
              "      height: 32px;\n",
              "      padding: 0 0 0 0;\n",
              "      width: 32px;\n",
              "    }\n",
              "\n",
              "    .colab-df-convert:hover {\n",
              "      background-color: #E2EBFA;\n",
              "      box-shadow: 0px 1px 2px rgba(60, 64, 67, 0.3), 0px 1px 3px 1px rgba(60, 64, 67, 0.15);\n",
              "      fill: #174EA6;\n",
              "    }\n",
              "\n",
              "    [theme=dark] .colab-df-convert {\n",
              "      background-color: #3B4455;\n",
              "      fill: #D2E3FC;\n",
              "    }\n",
              "\n",
              "    [theme=dark] .colab-df-convert:hover {\n",
              "      background-color: #434B5C;\n",
              "      box-shadow: 0px 1px 3px 1px rgba(0, 0, 0, 0.15);\n",
              "      filter: drop-shadow(0px 1px 2px rgba(0, 0, 0, 0.3));\n",
              "      fill: #FFFFFF;\n",
              "    }\n",
              "  </style>\n",
              "\n",
              "      <script>\n",
              "        const buttonEl =\n",
              "          document.querySelector('#df-77f96efb-b390-4c16-8448-ba1b0cf8d343 button.colab-df-convert');\n",
              "        buttonEl.style.display =\n",
              "          google.colab.kernel.accessAllowed ? 'block' : 'none';\n",
              "\n",
              "        async function convertToInteractive(key) {\n",
              "          const element = document.querySelector('#df-77f96efb-b390-4c16-8448-ba1b0cf8d343');\n",
              "          const dataTable =\n",
              "            await google.colab.kernel.invokeFunction('convertToInteractive',\n",
              "                                                     [key], {});\n",
              "          if (!dataTable) return;\n",
              "\n",
              "          const docLinkHtml = 'Like what you see? Visit the ' +\n",
              "            '<a target=\"_blank\" href=https://colab.research.google.com/notebooks/data_table.ipynb>data table notebook</a>'\n",
              "            + ' to learn more about interactive tables.';\n",
              "          element.innerHTML = '';\n",
              "          dataTable['output_type'] = 'display_data';\n",
              "          await google.colab.output.renderOutput(dataTable, element);\n",
              "          const docLink = document.createElement('div');\n",
              "          docLink.innerHTML = docLinkHtml;\n",
              "          element.appendChild(docLink);\n",
              "        }\n",
              "      </script>\n",
              "    </div>\n",
              "  </div>\n",
              "  "
            ]
          },
          "metadata": {},
          "execution_count": 103
        }
      ]
    },
    {
      "cell_type": "code",
      "source": [
        "df_19_inf.head()"
      ],
      "metadata": {
        "id": "CemEO4jea5ju",
        "colab": {
          "base_uri": "https://localhost:8080/",
          "height": 458
        },
        "outputId": "38b15c26-53bb-4722-be85-2a03bb8dcd95"
      },
      "execution_count": 104,
      "outputs": [
        {
          "output_type": "execute_result",
          "data": {
            "text/plain": [
              "     МСУ  Код предмета    ППЭ        ОО  Вариант                         В  \\\n",
              "0    1.0           5.0  801.0  201808.0    338.0   +++-++++++++-++++-+-+--   \n",
              "1  700.0           5.0  709.0  301716.0    334.0   -----------------------   \n",
              "2  300.0           5.0  301.0  301302.0    335.0   ++++++-+++--+-++-----+-   \n",
              "3  100.0           5.0  147.0  301144.0    504.0   +-+++-++----+-----+----   \n",
              "4  100.0           5.0  147.0  301130.0    334.0   +-++-++++++++-+++-+++-+   \n",
              "\n",
              "                  С  Первич  100.0       Дата  Аудитория Место  OB3  Пол  \\\n",
              "0  3(3)2(2)3(3)2(4)    27.0   79.0 2019-06-13       11.0   3:А  0.0  1.0   \n",
              "1  0(3)0(2)0(3)0(4)     0.0    0.0 2019-06-13        2.0   3:А  0.0  0.0   \n",
              "2  0(3)0(2)0(3)0(4)    13.0   53.0 2019-06-13        2.0   1:Б  0.0  0.0   \n",
              "3  1(3)0(2)1(3)0(4)    10.0   48.0 2019-06-20       11.0   2:А  0.0  1.0   \n",
              "4  3(3)2(2)3(3)1(4)    27.0   79.0 2019-06-13        3.0   4:А  0.0  0.0   \n",
              "\n",
              "                Регион   Кратое название  ОУ  \n",
              "0  Правобережный район  ГБОУ СОШ №8 г.Беслан  \n",
              "1     Моздокский район  МБОУ СОШ №2 с.Кизляр  \n",
              "2      Ардонский район   МБОУ СОШ №2 г.Ардон  \n",
              "3       г. Владикавказ         МБОУ СОМШ №44  \n",
              "4       г. Владикавказ          МБОУ СОШ №30  "
            ],
            "text/html": [
              "\n",
              "  <div id=\"df-b3bdf8b0-4b14-44b0-9950-58f0f1119564\">\n",
              "    <div class=\"colab-df-container\">\n",
              "      <div>\n",
              "<style scoped>\n",
              "    .dataframe tbody tr th:only-of-type {\n",
              "        vertical-align: middle;\n",
              "    }\n",
              "\n",
              "    .dataframe tbody tr th {\n",
              "        vertical-align: top;\n",
              "    }\n",
              "\n",
              "    .dataframe thead th {\n",
              "        text-align: right;\n",
              "    }\n",
              "</style>\n",
              "<table border=\"1\" class=\"dataframe\">\n",
              "  <thead>\n",
              "    <tr style=\"text-align: right;\">\n",
              "      <th></th>\n",
              "      <th>МСУ</th>\n",
              "      <th>Код предмета</th>\n",
              "      <th>ППЭ</th>\n",
              "      <th>ОО</th>\n",
              "      <th>Вариант</th>\n",
              "      <th>В</th>\n",
              "      <th>С</th>\n",
              "      <th>Первич</th>\n",
              "      <th>100.0</th>\n",
              "      <th>Дата</th>\n",
              "      <th>Аудитория</th>\n",
              "      <th>Место</th>\n",
              "      <th>OB3</th>\n",
              "      <th>Пол</th>\n",
              "      <th>Регион</th>\n",
              "      <th>Кратое название  ОУ</th>\n",
              "    </tr>\n",
              "  </thead>\n",
              "  <tbody>\n",
              "    <tr>\n",
              "      <th>0</th>\n",
              "      <td>1.0</td>\n",
              "      <td>5.0</td>\n",
              "      <td>801.0</td>\n",
              "      <td>201808.0</td>\n",
              "      <td>338.0</td>\n",
              "      <td>+++-++++++++-++++-+-+--</td>\n",
              "      <td>3(3)2(2)3(3)2(4)</td>\n",
              "      <td>27.0</td>\n",
              "      <td>79.0</td>\n",
              "      <td>2019-06-13</td>\n",
              "      <td>11.0</td>\n",
              "      <td>3:А</td>\n",
              "      <td>0.0</td>\n",
              "      <td>1.0</td>\n",
              "      <td>Правобережный район</td>\n",
              "      <td>ГБОУ СОШ №8 г.Беслан</td>\n",
              "    </tr>\n",
              "    <tr>\n",
              "      <th>1</th>\n",
              "      <td>700.0</td>\n",
              "      <td>5.0</td>\n",
              "      <td>709.0</td>\n",
              "      <td>301716.0</td>\n",
              "      <td>334.0</td>\n",
              "      <td>-----------------------</td>\n",
              "      <td>0(3)0(2)0(3)0(4)</td>\n",
              "      <td>0.0</td>\n",
              "      <td>0.0</td>\n",
              "      <td>2019-06-13</td>\n",
              "      <td>2.0</td>\n",
              "      <td>3:А</td>\n",
              "      <td>0.0</td>\n",
              "      <td>0.0</td>\n",
              "      <td>Моздокский район</td>\n",
              "      <td>МБОУ СОШ №2 с.Кизляр</td>\n",
              "    </tr>\n",
              "    <tr>\n",
              "      <th>2</th>\n",
              "      <td>300.0</td>\n",
              "      <td>5.0</td>\n",
              "      <td>301.0</td>\n",
              "      <td>301302.0</td>\n",
              "      <td>335.0</td>\n",
              "      <td>++++++-+++--+-++-----+-</td>\n",
              "      <td>0(3)0(2)0(3)0(4)</td>\n",
              "      <td>13.0</td>\n",
              "      <td>53.0</td>\n",
              "      <td>2019-06-13</td>\n",
              "      <td>2.0</td>\n",
              "      <td>1:Б</td>\n",
              "      <td>0.0</td>\n",
              "      <td>0.0</td>\n",
              "      <td>Ардонский район</td>\n",
              "      <td>МБОУ СОШ №2 г.Ардон</td>\n",
              "    </tr>\n",
              "    <tr>\n",
              "      <th>3</th>\n",
              "      <td>100.0</td>\n",
              "      <td>5.0</td>\n",
              "      <td>147.0</td>\n",
              "      <td>301144.0</td>\n",
              "      <td>504.0</td>\n",
              "      <td>+-+++-++----+-----+----</td>\n",
              "      <td>1(3)0(2)1(3)0(4)</td>\n",
              "      <td>10.0</td>\n",
              "      <td>48.0</td>\n",
              "      <td>2019-06-20</td>\n",
              "      <td>11.0</td>\n",
              "      <td>2:А</td>\n",
              "      <td>0.0</td>\n",
              "      <td>1.0</td>\n",
              "      <td>г. Владикавказ</td>\n",
              "      <td>МБОУ СОМШ №44</td>\n",
              "    </tr>\n",
              "    <tr>\n",
              "      <th>4</th>\n",
              "      <td>100.0</td>\n",
              "      <td>5.0</td>\n",
              "      <td>147.0</td>\n",
              "      <td>301130.0</td>\n",
              "      <td>334.0</td>\n",
              "      <td>+-++-++++++++-+++-+++-+</td>\n",
              "      <td>3(3)2(2)3(3)1(4)</td>\n",
              "      <td>27.0</td>\n",
              "      <td>79.0</td>\n",
              "      <td>2019-06-13</td>\n",
              "      <td>3.0</td>\n",
              "      <td>4:А</td>\n",
              "      <td>0.0</td>\n",
              "      <td>0.0</td>\n",
              "      <td>г. Владикавказ</td>\n",
              "      <td>МБОУ СОШ №30</td>\n",
              "    </tr>\n",
              "  </tbody>\n",
              "</table>\n",
              "</div>\n",
              "      <button class=\"colab-df-convert\" onclick=\"convertToInteractive('df-b3bdf8b0-4b14-44b0-9950-58f0f1119564')\"\n",
              "              title=\"Convert this dataframe to an interactive table.\"\n",
              "              style=\"display:none;\">\n",
              "        \n",
              "  <svg xmlns=\"http://www.w3.org/2000/svg\" height=\"24px\"viewBox=\"0 0 24 24\"\n",
              "       width=\"24px\">\n",
              "    <path d=\"M0 0h24v24H0V0z\" fill=\"none\"/>\n",
              "    <path d=\"M18.56 5.44l.94 2.06.94-2.06 2.06-.94-2.06-.94-.94-2.06-.94 2.06-2.06.94zm-11 1L8.5 8.5l.94-2.06 2.06-.94-2.06-.94L8.5 2.5l-.94 2.06-2.06.94zm10 10l.94 2.06.94-2.06 2.06-.94-2.06-.94-.94-2.06-.94 2.06-2.06.94z\"/><path d=\"M17.41 7.96l-1.37-1.37c-.4-.4-.92-.59-1.43-.59-.52 0-1.04.2-1.43.59L10.3 9.45l-7.72 7.72c-.78.78-.78 2.05 0 2.83L4 21.41c.39.39.9.59 1.41.59.51 0 1.02-.2 1.41-.59l7.78-7.78 2.81-2.81c.8-.78.8-2.07 0-2.86zM5.41 20L4 18.59l7.72-7.72 1.47 1.35L5.41 20z\"/>\n",
              "  </svg>\n",
              "      </button>\n",
              "      \n",
              "  <style>\n",
              "    .colab-df-container {\n",
              "      display:flex;\n",
              "      flex-wrap:wrap;\n",
              "      gap: 12px;\n",
              "    }\n",
              "\n",
              "    .colab-df-convert {\n",
              "      background-color: #E8F0FE;\n",
              "      border: none;\n",
              "      border-radius: 50%;\n",
              "      cursor: pointer;\n",
              "      display: none;\n",
              "      fill: #1967D2;\n",
              "      height: 32px;\n",
              "      padding: 0 0 0 0;\n",
              "      width: 32px;\n",
              "    }\n",
              "\n",
              "    .colab-df-convert:hover {\n",
              "      background-color: #E2EBFA;\n",
              "      box-shadow: 0px 1px 2px rgba(60, 64, 67, 0.3), 0px 1px 3px 1px rgba(60, 64, 67, 0.15);\n",
              "      fill: #174EA6;\n",
              "    }\n",
              "\n",
              "    [theme=dark] .colab-df-convert {\n",
              "      background-color: #3B4455;\n",
              "      fill: #D2E3FC;\n",
              "    }\n",
              "\n",
              "    [theme=dark] .colab-df-convert:hover {\n",
              "      background-color: #434B5C;\n",
              "      box-shadow: 0px 1px 3px 1px rgba(0, 0, 0, 0.15);\n",
              "      filter: drop-shadow(0px 1px 2px rgba(0, 0, 0, 0.3));\n",
              "      fill: #FFFFFF;\n",
              "    }\n",
              "  </style>\n",
              "\n",
              "      <script>\n",
              "        const buttonEl =\n",
              "          document.querySelector('#df-b3bdf8b0-4b14-44b0-9950-58f0f1119564 button.colab-df-convert');\n",
              "        buttonEl.style.display =\n",
              "          google.colab.kernel.accessAllowed ? 'block' : 'none';\n",
              "\n",
              "        async function convertToInteractive(key) {\n",
              "          const element = document.querySelector('#df-b3bdf8b0-4b14-44b0-9950-58f0f1119564');\n",
              "          const dataTable =\n",
              "            await google.colab.kernel.invokeFunction('convertToInteractive',\n",
              "                                                     [key], {});\n",
              "          if (!dataTable) return;\n",
              "\n",
              "          const docLinkHtml = 'Like what you see? Visit the ' +\n",
              "            '<a target=\"_blank\" href=https://colab.research.google.com/notebooks/data_table.ipynb>data table notebook</a>'\n",
              "            + ' to learn more about interactive tables.';\n",
              "          element.innerHTML = '';\n",
              "          dataTable['output_type'] = 'display_data';\n",
              "          await google.colab.output.renderOutput(dataTable, element);\n",
              "          const docLink = document.createElement('div');\n",
              "          docLink.innerHTML = docLinkHtml;\n",
              "          element.appendChild(docLink);\n",
              "        }\n",
              "      </script>\n",
              "    </div>\n",
              "  </div>\n",
              "  "
            ]
          },
          "metadata": {},
          "execution_count": 104
        }
      ]
    },
    {
      "cell_type": "markdown",
      "source": [
        "# Описание набора данных\n",
        "\n",
        "## Переменная(признак)- Описание переменной - Тип переменной\n",
        "\n",
        "\n",
        "⭕ **МСУ** - Номер местного самоуправления - Категориальная\n",
        "\n",
        "⭕ **Код предмета** - Код Экзамена по информатике - Категориальная\n",
        "\n",
        "⭕ **ППЭ** - Номер пункта проведения Экзамена - Категориальная\n",
        "\n",
        "⭕ **ОО** - Номер образовательной организации - Категориальная\n",
        "\n",
        "⭕ **Вариант** - Номер варианта - Категориальная\n",
        "\n",
        "⭕ **В** - Проверенные ответа каждого из учеников в части B (+ правильный ответ, -неправильный ответ) - Категориальная\n",
        "\n",
        "⭕ **C** - Количество баллов за ответ каждого из учеников в части С - Категориальная\n",
        "\n",
        "⭕ **Первич** - Количество первичных баллов за весь экзамен - Количественная\n",
        "\n",
        "⭕ **100** - Количество вторичных баллов за весь экзамен - Количественная\n",
        "\n",
        "⭕ **Дата** - Дата проведения экзамена - Дата\n",
        "\n",
        "⭕ **Аудитория** - Номер аудитории, где ученик сдавал экзамен - Категориальная\n",
        "\n",
        "⭕ **Место** - Номер места, за которым сидел ученик во время сдачи экзамена - Категориальная\n",
        "\n",
        "⭕ **OB3** - Является ли у ученик лицом с ограниченными возможностями здоровья (0 - нет, 1 - да) - Категориальная\n",
        "\n",
        "⭕ **Пол** - Пол учащегося (0 – мужской, 1 – женский) -Категориальная\n",
        "\n"
      ],
      "metadata": {
        "id": "7yXkMhd_heCs"
      }
    },
    {
      "cell_type": "markdown",
      "source": [
        "# Разные функции"
      ],
      "metadata": {
        "id": "8gpLnAvpFZk2"
      }
    },
    {
      "cell_type": "code",
      "source": [
        "# Для очистки мусора\n",
        "def clear_from_rubb(data):\n",
        "    if df_21_inf.shape[1] > 15:\n",
        "      data.drop(columns = ['С',1,2,3,4,5,6,7,8,9,10,11,12,13,14,15,16,17,18,19,20,21,22,23,24,25,26,27],inplace = True,axis = 1)\n",
        "    data = data.dropna(how='any',axis = 0,inplace = True)"
      ],
      "metadata": {
        "id": "tsNb_qa-w4u3"
      },
      "execution_count": 105,
      "outputs": []
    },
    {
      "cell_type": "code",
      "source": [
        "# Делает столбцы по заданиям\n",
        "def make_new_column_2021(mas_of_ans,data):\n",
        "  mas_of_ans = pd.DataFrame(mas_of_ans, columns = [ i for i in range(1,28)])\n",
        "  mas_of_ans.head()\n",
        "  #print(len(mas_of_ans))\n",
        "  #print(mas_of_ans.tail(7))\n",
        "  data = pd.concat([mas_of_ans,data],axis = 1)\n",
        "  #print(type(data))\n",
        "  return data"
      ],
      "metadata": {
        "id": "u6iI6X50VMfE"
      },
      "execution_count": 106,
      "outputs": []
    },
    {
      "cell_type": "code",
      "source": [
        "# Для расшифровки ответов на задания\n",
        "def grade_of_solution_2021(data):\n",
        "  mas = [[j for j in range(0)] for i in range(0,len(data))]\n",
        "  #print(len(mas))\n",
        "  for user,sol in enumerate(data['В']):\n",
        "    #print(user)\n",
        "    for item in sol:\n",
        "      #print(number)\n",
        "      if item == '+':\n",
        "        mas[user].append(int(1))\n",
        "      elif item == '-':\n",
        "        mas[user].append(int(0))\n",
        "      elif item != ' ':\n",
        "        mas[user].append(int(item))\n",
        "  #print(len(mas))\n",
        "  #print(len(mas[0]))\n",
        "  return make_new_column_2021(mas,data)\n"
      ],
      "metadata": {
        "id": "yz_na-Pt2H61"
      },
      "execution_count": 107,
      "outputs": []
    },
    {
      "cell_type": "code",
      "source": [
        "# Делает столбцы по заданиям 2020 и 2019\n",
        "def make_new_column_B(mas_of_ans,data):\n",
        "  mas_of_ans = pd.DataFrame(mas_of_ans, columns = [ i for i in range(1,24)])\n",
        "  mas_of_ans.head()\n",
        "  #print(len(mas_of_ans))\n",
        "  #print(mas_of_ans.tail(7))\n",
        "  data = pd.concat([mas_of_ans,data],axis = 1)\n",
        "  #print(type(data))\n",
        "  return data"
      ],
      "metadata": {
        "id": "peuZoA11FUa6"
      },
      "execution_count": 108,
      "outputs": []
    },
    {
      "cell_type": "code",
      "source": [
        "# Для расшифровки ответов на задания для 2020 и 2019\n",
        "def grade_of_solution_B(data):\n",
        "  mas = [[j for j in range(0)] for i in range(0,len(data))]\n",
        "  #print(len(mas))\n",
        "  for user,sol in enumerate(data['В']):\n",
        "    #print(user)\n",
        "    for item in sol:\n",
        "      #print(number)\n",
        "      if item == '+':\n",
        "        mas[user].append(int(1))\n",
        "      elif item == '-':\n",
        "        mas[user].append(int(0))\n",
        "      elif item != ' ':\n",
        "        mas[user].append(int(item))\n",
        "  #print(len(mas))\n",
        "  #print(len(mas[0]))\n",
        "  return make_new_column_B(mas,data)"
      ],
      "metadata": {
        "id": "qEUadq13FG8L"
      },
      "execution_count": 109,
      "outputs": []
    },
    {
      "cell_type": "code",
      "source": [
        "# Делает столбцы по заданиям 2020 и 2019 Уровня С\n",
        "def make_new_column_C(mas_of_ans,data):\n",
        "  mas_of_ans = pd.DataFrame(mas_of_ans, columns = [ i for i in range(24,28)])\n",
        "  mas_of_ans.head()\n",
        "  #print(len(mas_of_ans))\n",
        "  #print(mas_of_ans.tail(7))\n",
        "  data = pd.concat([mas_of_ans,data],axis = 1)\n",
        "  #print(type(data))\n",
        "  return data"
      ],
      "metadata": {
        "id": "owqIHLz4HvWS"
      },
      "execution_count": 110,
      "outputs": []
    },
    {
      "cell_type": "code",
      "source": [
        "# Преобразование ответов на задания уровня С для 20 и 19 годов\n",
        "def grade_of_solution_C(data):\n",
        "  max_of_q = [3,2,3,4]\n",
        "  mas = [[j for j in range(0)] for i in range(0,len(data))]\n",
        "  #print(len(mas))\n",
        "  for user,sol in enumerate(data['С']):\n",
        "    #print(user)\n",
        "    for idx in range(0,len(sol),4):\n",
        "      #print(sol[idx])\n",
        "      mas[user].append(int(sol[idx]))\n",
        "  return make_new_column_C(mas,data)"
      ],
      "metadata": {
        "id": "vjgS8QbXF92g"
      },
      "execution_count": 111,
      "outputs": []
    },
    {
      "cell_type": "code",
      "source": [
        "# Функция вывода процента успешности решаемости задания\n",
        "def success_rate(data,q_numb):\n",
        "  success = data[data[q_numb] == 1]\n",
        "  #print(len(success))\n",
        "  return len(success)"
      ],
      "metadata": {
        "id": "F8hO0SYbsqp8"
      },
      "execution_count": 112,
      "outputs": []
    },
    {
      "cell_type": "code",
      "source": [
        "# Функция вывода процента успешности решаемости задания\n",
        "def success_rate_percent(data,q_numb):\n",
        "  success = data[data[q_numb] >= 1]\n",
        "  #print(len(success)/len(data)*100)\n",
        "  return len(success)/len(data)*100"
      ],
      "metadata": {
        "id": "aGXCXXV0sBV8"
      },
      "execution_count": 113,
      "outputs": []
    },
    {
      "cell_type": "code",
      "source": [
        "# Процент успешности решения задач уровня B\n",
        "def success_of_q_graf(data,size_part_b):\n",
        "  success_of_B = []\n",
        "  numbers = [i for i in range(1,size_part_b+1)]\n",
        "  for i in range(1,size_part_b+1):\n",
        "    success_of_B.append(success_rate_percent(data,i))\n",
        "\n",
        "  #plt.figure(figsize=(16,3))\n",
        "  q_b_per = sns.barplot(x = numbers, y=success_of_B)\n",
        "  q_b_per.set(xlabel = 'Номер задания', ylabel = 'Процент правильных решений' )\n",
        "  #fig = q_b_per.get_figure()\n",
        "  return q_b_per"
      ],
      "metadata": {
        "id": "hWPVWfzI7Hk-"
      },
      "execution_count": 114,
      "outputs": []
    },
    {
      "cell_type": "code",
      "source": [
        "# Процент успешности решения всех задач уровня B\n",
        "def success_of_q_graf_full(d21,d20,d19):\n",
        "\n",
        "\n",
        "  q_b_per21 = success_of_q_graf(d21,23)\n",
        "  plt.show()\n",
        "  q_b_per20 =success_of_q_graf(d20,23)\n",
        "  plt.show()\n",
        "  q_b_per19 =success_of_q_graf(d19,23)\n",
        "  plt.show()\n",
        "  plt.savefig('Bas_0.eps', format='eps', dpi=1000)"
      ],
      "metadata": {
        "id": "de1qA5EfUMi_"
      },
      "execution_count": 115,
      "outputs": []
    },
    {
      "cell_type": "code",
      "source": [
        "from numpy.ma.core import reshape\n",
        "# Процент успешности решения всех задач уровня B\n",
        "ques_q_2020_2019 = [3,2,4,5,6,8,9,10,13,14,15,16,18,21,22]\n",
        "ques_q_2021 =      [1,2,3,4,5,6,7, 8,11,12,13,14,15,22,23]\n",
        "\n",
        "def success_of_q_graf_full_common(d21,d20,d19):\n",
        "  success_of_21 = []\n",
        "  success_of_20 = []\n",
        "  success_of_19 = []\n",
        "  ##numbers = [i for i in range(1,24)]\n",
        "  for i in ques_q_2020_2019:\n",
        "    success_of_19.append(success_rate_percent(d19,i))\n",
        "    success_of_20.append(success_rate_percent(d20,i))\n",
        "\n",
        "  print(len(success_of_19))\n",
        "  print(len(success_of_21))\n",
        "\n",
        "  for i in ques_q_2021:\n",
        "    success_of_21.append(success_rate_percent(d21,i))\n",
        "  \n",
        "  quests = []\n",
        "  for i in range(0,len(ques_q_2021)):\n",
        "      quests.append(str(ques_q_2020_2019[i])+'-'+str(ques_q_2020_2019[i])+'-'+str(ques_q_2021[i]))\n",
        "      #quests.append(ques_q_2021[i]+ques_q_2020_2019[i]+ques_q_2020_2019[i])\n",
        "\n",
        "  #print(quests)\n",
        "\n",
        "  df_19 =pd.DataFrame(success_of_19,columns =['%'])\n",
        "  df_19['quests'] = pd.DataFrame(quests)\n",
        "  df_19['year'] = 2019\n",
        "\n",
        "  df_20 =pd.DataFrame(success_of_20,columns =['%'])\n",
        "  df_20['quests'] = pd.DataFrame(quests)\n",
        "  df_20['year'] = 2020\n",
        "\n",
        "  df_21 =pd.DataFrame(success_of_21,columns =['%'])\n",
        "  df_21['quests'] = pd.DataFrame(quests)\n",
        "  df_21['year'] = 2021\n",
        "  \n",
        "  #print(df_21)\n",
        "\n",
        "  #.reindex()\n",
        "  res = pd.DataFrame()\n",
        "  res=res.append([df_19,df_20,df_21])\n",
        "  res = res.reset_index()\n",
        "  res.drop(columns = ['index'],axis = 1,inplace = True)\n",
        "  #print(res.head())\n",
        "  #print(res)\n",
        "\n",
        "  plt.figure(figsize=(16,8))\n",
        "  graf = sns.barplot(x='quests' ,y='%',data=res,hue='year',dodge=True)\n",
        "  graf.set(xlabel = 'Номерa заданий', ylabel = 'Процент правильных решений' )\n",
        "  plt.show()\n",
        "  plt.savefig('Bas_0.eps', format='eps', dpi=1000)"
      ],
      "metadata": {
        "id": "7JgFKTVqVl8P"
      },
      "execution_count": 116,
      "outputs": []
    },
    {
      "cell_type": "code",
      "source": [
        "#success_of_q_graf_full_common(df_21_inf,df_20_inf,df_19_inf)"
      ],
      "metadata": {
        "id": "-aI9voETWj5H"
      },
      "execution_count": 117,
      "outputs": []
    },
    {
      "cell_type": "code",
      "source": [
        "#success_of_q_graf_full(df_21_inf,df_20_inf,df_19_inf)"
      ],
      "metadata": {
        "id": "BoDqAzqtYaZM"
      },
      "execution_count": 118,
      "outputs": []
    },
    {
      "cell_type": "code",
      "source": [
        "# Вывод всех сложных для решения задач уровня B\n",
        "def hard_q_graf(data,size_part_b):\n",
        "  success_of_B = []\n",
        "  numbers = []\n",
        "  for i in range(1,size_part_b+1):\n",
        "    if success_rate_percent(data,i)<50:\n",
        "      success_of_B.append(success_rate_percent(data,i))\n",
        "      numbers.append(i)\n",
        "\n",
        "  plt.figure(figsize=(16,3))\n",
        "  q_b_per = sns.barplot(x = numbers, y=success_of_B)\n",
        "  q_b_per.set(xlabel = 'Номер задания', ylabel = 'Процент правильных решений' )\n",
        "  fig = q_b_per.get_figure()"
      ],
      "metadata": {
        "id": "M0xX9XEG84El"
      },
      "execution_count": 119,
      "outputs": []
    },
    {
      "cell_type": "code",
      "source": [
        "# Вывод всех легких для решения задач уровня B\n",
        "def easy_q_graf(data,size_part_b):\n",
        "  success_of_B = []\n",
        "  numbers = []\n",
        "  for i in range(1,size_part_b+1):\n",
        "    if success_rate_percent(data,i)>60:\n",
        "      success_of_B.append(success_rate_percent(data,i))\n",
        "      numbers.append(i)\n",
        "\n",
        "  plt.figure(figsize=(16,3))\n",
        "  q_b_per = sns.barplot(x = numbers, y=success_of_B)\n",
        "  q_b_per.set(xlabel = 'Номер задания', ylabel = 'Процент правильных решений' )\n",
        "  fig = q_b_per.get_figure()"
      ],
      "metadata": {
        "id": "SRHvyZGg-mXd"
      },
      "execution_count": 120,
      "outputs": []
    },
    {
      "cell_type": "code",
      "source": [
        "# Процент успешности решения задач уровня С\n",
        "def success_of_q_graf_c(data,start_part_c):\n",
        "  success_of_c = []\n",
        "  numbers = [i for i in range(start_part_c,28)]\n",
        "  for i in range(start_part_c,28):\n",
        "    success_of_c.append(success_rate_percent(data,i))\n",
        "\n",
        "  plt.figure(figsize=(16,3))\n",
        "  q_b_per = sns.barplot(x = numbers, y=success_of_c)\n",
        "  q_b_per.set(xlabel = 'Номер задания', ylabel = 'Процент правильных решений' )\n",
        "  fig = q_b_per.get_figure()"
      ],
      "metadata": {
        "id": "BzmFwTGCIk6y"
      },
      "execution_count": 121,
      "outputs": []
    },
    {
      "cell_type": "code",
      "source": [
        "# Вывод всех сложных для решения задач уровня С\n",
        "def hard_q_graf_с(data,start_part_b):\n",
        "  success_of_c = []\n",
        "  numbers = []\n",
        "  for i in range(start_part_b,27+1):\n",
        "    if success_rate_percent(data,i)<50:\n",
        "      success_of_c.append(success_rate_percent(data,i))\n",
        "      numbers.append(i)\n",
        "\n",
        "  plt.figure(figsize=(16,3))\n",
        "  q_b_per = sns.barplot(x = numbers, y=success_of_c)\n",
        "  q_b_per.set(xlabel = 'Номер задания', ylabel = 'Процент правильных решений' )\n",
        "  fig = q_b_per.get_figure()"
      ],
      "metadata": {
        "id": "FQYOpRhrJ73p"
      },
      "execution_count": 122,
      "outputs": []
    },
    {
      "cell_type": "code",
      "source": [
        "# Список зон\n",
        "districts = {\n",
        "    'г. Владикавказ',\n",
        "    'Моздокский район',\n",
        "    #'Другое'\n",
        "}\n",
        "# Распределение баллов по трем зонам\n",
        "def take_region_guys(data,name_of_column):\n",
        "  df_main_regions = data[(data[name_of_column] == 'г. Владикавказ' ) | (data[name_of_column] == 'Моздокский район' )]\n",
        "  df_other_regions = data[(data[name_of_column] == 'Правобережный район' ) \\\n",
        "                       | (data[name_of_column] == 'Пригородный район' ) | (data[name_of_column] ==  'Кировский район' ) | (data[name_of_column] == 'Алагирский район') \\\n",
        "                       | (data[name_of_column] == 'Ардонский район' ) | (data[name_of_column] == 'Ирафский район' ) | (data[name_of_column] == 'Дигорский район') \\\n",
        "                    ]\n",
        "  \n",
        "  df_other_regions[name_of_column] = 'Все остальное'\n",
        "\n",
        "  # Вывод медиан\n",
        "\n",
        "  print('MEDIAN')\n",
        "  print('г. Владикавказ:',df_main_regions[df_main_regions[name_of_column] == 'г. Владикавказ'][100.0].median())\n",
        "\n",
        "  print('Моздокский Район:',df_main_regions[df_main_regions[name_of_column] == 'Моздокский район'][100.0].median())\n",
        "\n",
        "  print('Все остальные районы:',df_other_regions[100.0].median(),'\\n')\n",
        "\n",
        "  # Вывод максимумов\n",
        "  print('MAX')\n",
        "  print('г. Владикавказ:',df_main_regions[df_main_regions[name_of_column] == 'г. Владикавказ'][100.0].max())\n",
        "\n",
        "  print('Моздокский Район:',df_main_regions[df_main_regions[name_of_column] == 'Моздокский район'][100.0].max())\n",
        "\n",
        "  print('Все остальные районы:',df_other_regions[100.0].max(),'\\n')\n",
        "\n",
        "  # Вывод минимумов\n",
        "  print('MIN')\n",
        "  print('г. Владикавказ:',df_main_regions[df_main_regions[name_of_column] == 'г. Владикавказ'][100.0].min())\n",
        "\n",
        "  print('Моздокский Район:',df_main_regions[df_main_regions[name_of_column] == 'Моздокский район'][100.0].min())\n",
        "\n",
        "  print('Все остальные районы:',df_other_regions[100.0].min())\n",
        "\n",
        "\n",
        "\n",
        "  plt.figure(figsize=(30,8))\n",
        "  reg = sns.boxplot(x=df_main_regions[name_of_column], y=df_main_regions[100.0]) \n",
        "  plt.show()\n",
        "  olo = sns.boxplot(x=df_other_regions[name_of_column], y=df_other_regions[100.0])\n",
        "  plt.show()\n",
        "  #reg.set(xlabel = 'Название района', ylabel = 'Распределение баллов' )\n",
        "  #fig = reg.get_figure()\n",
        "\n",
        "  #sns.barplot(x=\"class\", y=\"survived\", hue=\"embark_town\", data=titanic_dataset);"
      ],
      "metadata": {
        "id": "6ixaWHcmLPb0"
      },
      "execution_count": 123,
      "outputs": []
    },
    {
      "cell_type": "code",
      "source": [
        "# Вывод данных по разным дням сдачи\n",
        "\n",
        "def days_info(data,*main_data ):\n",
        "  main_data = list(main_data)\n",
        "  main_data.append(-1)\n",
        "\n",
        "  m_m = data[(data['Дата'] == main_data[0]) |(data['Дата'] == main_data[1])][100.0].median()\n",
        "  m_a = data[(data['Дата'] != main_data[0])  & (data['Дата'] != main_data[1]) ][100.0].median()\n",
        "  x_m = data[(data['Дата'] == main_data[0]) |(data['Дата'] == main_data[1])][100.0].mean()\n",
        "  x_a = data[(data['Дата'] != main_data[0])  & (data['Дата'] != main_data[1]) ][100.0].mean()\n",
        "  disp_main = data[(data['Дата'] == main_data[0]) |(data['Дата'] == main_data[1])][100.0].var()\n",
        "  disp_anoth = data[(data['Дата'] != main_data[0])  & (data['Дата'] != main_data[1])][100.0].var()\n",
        "  sd_m = data[(data['Дата'] == main_data[0]) |(data['Дата'] == main_data[1])][100.0].std()\n",
        "  sd_a = data[(data['Дата'] != main_data[0])  & (data['Дата'] != main_data[1])][100.0].std()\n",
        "\n",
        "\n",
        "  print('Медиана основного',m_m)\n",
        "  print('Медиана Резерв',m_a)\n",
        "  print('Среднее основного',x_m)\n",
        "  print('Среднее Резерв',x_a)\n",
        "  print('Дисперсия основного',disp_main)\n",
        "  print('Дисперсия Резерв',disp_anoth)\n",
        "  print('Среднее отклонение основного',sd_m)\n",
        "  print('Среднее отклонение Резерв',sd_a)\n",
        "\n",
        "\n",
        "  r_x_m = sns.distplot(x=data[(data['Дата'] == main_data[0]) |(data['Дата'] == main_data[1])][100.0]) \n",
        "  plt.show() \n",
        "  r_x_a = sns.distplot(  data[(data['Дата'] != main_data[0])  & (data['Дата'] != main_data[1])][100.0]) \n",
        "  plt.show() "
      ],
      "metadata": {
        "id": "mTlyj_X-NGCC"
      },
      "execution_count": 124,
      "outputs": []
    },
    {
      "cell_type": "code",
      "source": [
        "# Изменение кол-ва школьников за 20-21 года\n",
        "def delta_sch(df_21,df_20,df_19):\n",
        "  pd.options.display.max_rows = 200\n",
        "  df_rez = pd.DataFrame()\n",
        "  df_rez['Изменение за 20/21'] = df_21['Кратое название  ОУ'].value_counts() - df_20['Кратое название  ОУ'].value_counts()\n",
        "  df_rez['Изменение за 20/21'].fillna('-',inplace = True)\n",
        "  print(df_rez)"
      ],
      "metadata": {
        "id": "F7Ok1XjVdvK3"
      },
      "execution_count": 125,
      "outputs": []
    },
    {
      "cell_type": "code",
      "source": [
        "# Количество школьников по годам\n",
        "def how_much_sch(df_21,df_20,df_19):\n",
        "  pd.options.display.max_rows = 100\n",
        "  df_rez = pd.DataFrame()\n",
        "  df_rez[19] = df_19['Кратое название  ОУ'].value_counts()\n",
        "  df_rez[20] = df_20['Кратое название  ОУ'].value_counts()\n",
        "  df_rez[21] = df_21['Кратое название  ОУ'].value_counts()\n",
        "  \n",
        "  df_rez = df_rez[~np.isnan(df_rez[19]*df_rez[20]*df_rez[21])]\n",
        "  df_rez['delta_year'] = df_21['Кратое название  ОУ'].value_counts() - df_20['Кратое название  ОУ'].value_counts()\n",
        "  #df_rez = df_rez['Кратое название  ОУ'].dropna()\n",
        "  print(df_rez.head())\n",
        "\n",
        "  print(df_rez)\n",
        "  "
      ],
      "metadata": {
        "id": "cCHKKe64cJm1"
      },
      "execution_count": 126,
      "outputs": []
    },
    {
      "cell_type": "code",
      "source": [
        "# Средние баллы школьников по школам за разные года(Котыыыыыль)\n",
        "def median_of_b(df_21,df_20,df_19):\n",
        "  \n",
        "  pd.options.display.max_rows = 200\n",
        "  df_rez_19 = pd.DataFrame()\n",
        "  df_rez_20 = pd.DataFrame()\n",
        "  df_rez_21 = pd.DataFrame()\n",
        "  df_rez = pd.DataFrame()\n",
        "\n",
        "  df_rez_19['Кратое название  ОУ'] = df_19['Кратое название  ОУ']\n",
        "  df_rez_20['Кратое название  ОУ'] = df_20['Кратое название  ОУ']\n",
        "  df_rez_21['Кратое название  ОУ'] = df_21['Кратое название  ОУ']\n",
        " \n",
        "\n",
        "  df_rez_19['year']=19\n",
        "  df_rez_20['year']=20\n",
        "  df_rez_21['year']=21\n",
        "\n",
        "\n",
        "  df_rez_19[100.0]=df_19[100.0]\n",
        "  df_rez_20[100.0]=df_20[100.0]\n",
        "  df_rez_21[100.0]=df_21[100.0]\n",
        "  \n",
        "\n",
        " #df_rez = pd.concat([df_rez_19,df_rez_20,df_rez_21],axis = 1) \n",
        "  df_rez = df_rez.append([df_rez_19,df_rez_20,df_rez_21]) \n",
        "  df_rez = df_rez[~np.isnan(df_rez[100.0])]\n",
        "  df_rez = pd.pivot_table(data = df_rez,values = 100.0,index ='Кратое название  ОУ',columns ='year', aggfunc = 'median')\n",
        "  df_rez = df_rez.dropna()\n",
        "  #print(type(df_rez))\n",
        "  #df_rez['Изменение'] = df_rez[21].apply(lambda x: 'Выросло' if x >= df_rez[20] else 'Упало')\n",
        "  df_rez['Рост'] = df_rez[21].gt(df_rez[20])\n",
        "  print(df_rez)"
      ],
      "metadata": {
        "id": "43r5YD_TeQsv"
      },
      "execution_count": 127,
      "outputs": []
    },
    {
      "cell_type": "markdown",
      "source": [
        "# Рассмотрим каждый датасет и преобразуем их все в нечто универсальное"
      ],
      "metadata": {
        "id": "6A-1ZS022GDO"
      }
    },
    {
      "cell_type": "markdown",
      "source": [
        "### 21 год"
      ],
      "metadata": {
        "id": "vImyWtLf--P9"
      }
    },
    {
      "cell_type": "code",
      "source": [
        "df_21_inf.info()"
      ],
      "metadata": {
        "id": "FA0OWE0f1zzD",
        "colab": {
          "base_uri": "https://localhost:8080/"
        },
        "outputId": "d2c55258-0122-4d46-a55a-76f01f2cb136"
      },
      "execution_count": 128,
      "outputs": [
        {
          "output_type": "stream",
          "name": "stdout",
          "text": [
            "<class 'pandas.core.frame.DataFrame'>\n",
            "RangeIndex: 321 entries, 0 to 320\n",
            "Data columns (total 43 columns):\n",
            " #   Column               Non-Null Count  Dtype         \n",
            "---  ------               --------------  -----         \n",
            " 0   МСУ                  315 non-null    float64       \n",
            " 1   Код предмета         315 non-null    float64       \n",
            " 2   ППЭ                  315 non-null    float64       \n",
            " 3   ОО                   315 non-null    float64       \n",
            " 4   Вариант              315 non-null    float64       \n",
            " 5   В                    315 non-null    object        \n",
            " 6   С                    0 non-null      float64       \n",
            " 7   Первич               320 non-null    object        \n",
            " 8   100.0                320 non-null    float64       \n",
            " 9   Дата                 315 non-null    datetime64[ns]\n",
            " 10  Аудитория            315 non-null    float64       \n",
            " 11  Место                315 non-null    object        \n",
            " 12  OB3                  318 non-null    object        \n",
            " 13  Пол                  318 non-null    float64       \n",
            " 14  Район                315 non-null    object        \n",
            " 15  Кратое название  ОУ  319 non-null    object        \n",
            " 16  1.0                  318 non-null    object        \n",
            " 17  2.0                  318 non-null    object        \n",
            " 18  3.0                  318 non-null    object        \n",
            " 19  4.0                  318 non-null    object        \n",
            " 20  5.0                  318 non-null    object        \n",
            " 21  6.0                  318 non-null    object        \n",
            " 22  7.0                  318 non-null    object        \n",
            " 23  8.0                  318 non-null    object        \n",
            " 24  9.0                  318 non-null    object        \n",
            " 25  10.0                 318 non-null    object        \n",
            " 26  11.0                 318 non-null    object        \n",
            " 27  12.0                 318 non-null    object        \n",
            " 28  13.0                 318 non-null    object        \n",
            " 29  14.0                 318 non-null    object        \n",
            " 30  15.0                 318 non-null    object        \n",
            " 31  16.0                 318 non-null    object        \n",
            " 32  17.0                 318 non-null    object        \n",
            " 33  18.0                 318 non-null    object        \n",
            " 34  19.0                 318 non-null    object        \n",
            " 35  20.0                 318 non-null    object        \n",
            " 36  21.0                 318 non-null    object        \n",
            " 37  22.0                 318 non-null    object        \n",
            " 38  23.0                 318 non-null    object        \n",
            " 39  24.0                 318 non-null    object        \n",
            " 40  25.0                 319 non-null    float64       \n",
            " 41  26.0                 319 non-null    float64       \n",
            " 42  27.0                 319 non-null    float64       \n",
            "dtypes: datetime64[ns](1), float64(12), object(30)\n",
            "memory usage: 108.0+ KB\n"
          ]
        }
      ]
    },
    {
      "cell_type": "code",
      "source": [
        "#Очистим данные и переведем ответы в числовые столбцы\n",
        "clear_from_rubb(df_21_inf)"
      ],
      "metadata": {
        "id": "UtaCZi2J_Rks"
      },
      "execution_count": 129,
      "outputs": []
    },
    {
      "cell_type": "code",
      "source": [
        "df_21_inf = grade_of_solution_2021(df_21_inf)"
      ],
      "metadata": {
        "id": "3YJdTWuHAVyv"
      },
      "execution_count": 130,
      "outputs": []
    },
    {
      "cell_type": "markdown",
      "source": [
        "### 20 год"
      ],
      "metadata": {
        "id": "NZGpYnOHDfUo"
      }
    },
    {
      "cell_type": "code",
      "source": [
        "df_20_inf.info()"
      ],
      "metadata": {
        "id": "_ln9X0vHDknR",
        "colab": {
          "base_uri": "https://localhost:8080/"
        },
        "outputId": "c1232ed1-bc15-49d1-d54e-fccd72a980ba"
      },
      "execution_count": 131,
      "outputs": [
        {
          "output_type": "stream",
          "name": "stdout",
          "text": [
            "<class 'pandas.core.frame.DataFrame'>\n",
            "RangeIndex: 320 entries, 0 to 319\n",
            "Data columns (total 16 columns):\n",
            " #   Column               Non-Null Count  Dtype         \n",
            "---  ------               --------------  -----         \n",
            " 0   МСУ                  320 non-null    float64       \n",
            " 1   Код предмета         320 non-null    float64       \n",
            " 2   ППЭ                  320 non-null    float64       \n",
            " 3   ОО                   320 non-null    float64       \n",
            " 4   Вариант              320 non-null    float64       \n",
            " 5   В                    320 non-null    object        \n",
            " 6   С                    320 non-null    object        \n",
            " 7   Первич               320 non-null    float64       \n",
            " 8   100.0                320 non-null    float64       \n",
            " 9   Дата                 320 non-null    datetime64[ns]\n",
            " 10  Аудитория            320 non-null    float64       \n",
            " 11  Место                320 non-null    object        \n",
            " 12  OB3                  320 non-null    float64       \n",
            " 13  Пол                  320 non-null    float64       \n",
            " 14  Район                320 non-null    object        \n",
            " 15  Кратое название  ОУ  320 non-null    object        \n",
            "dtypes: datetime64[ns](1), float64(10), object(5)\n",
            "memory usage: 40.1+ KB\n"
          ]
        }
      ]
    },
    {
      "cell_type": "code",
      "source": [
        "df_20_inf = grade_of_solution_B(df_20_inf)"
      ],
      "metadata": {
        "id": "JBSmF3xZE8fE"
      },
      "execution_count": 132,
      "outputs": []
    },
    {
      "cell_type": "code",
      "source": [
        "df_20_inf = grade_of_solution_C(df_20_inf)"
      ],
      "metadata": {
        "id": "PaMv35g8H6lf"
      },
      "execution_count": 133,
      "outputs": []
    },
    {
      "cell_type": "markdown",
      "source": [
        "### 19 год"
      ],
      "metadata": {
        "id": "dCwkGNDyDi2N"
      }
    },
    {
      "cell_type": "code",
      "source": [
        "df_19_inf.info()"
      ],
      "metadata": {
        "id": "CZ4AKmFg_j8P",
        "colab": {
          "base_uri": "https://localhost:8080/"
        },
        "outputId": "bde181ff-9804-445d-b7d9-f6b77a1c1fa9"
      },
      "execution_count": 134,
      "outputs": [
        {
          "output_type": "stream",
          "name": "stdout",
          "text": [
            "<class 'pandas.core.frame.DataFrame'>\n",
            "RangeIndex: 286 entries, 0 to 285\n",
            "Data columns (total 16 columns):\n",
            " #   Column               Non-Null Count  Dtype         \n",
            "---  ------               --------------  -----         \n",
            " 0   МСУ                  286 non-null    float64       \n",
            " 1   Код предмета         286 non-null    float64       \n",
            " 2   ППЭ                  286 non-null    float64       \n",
            " 3   ОО                   286 non-null    float64       \n",
            " 4   Вариант              286 non-null    float64       \n",
            " 5   В                    286 non-null    object        \n",
            " 6   С                    286 non-null    object        \n",
            " 7   Первич               286 non-null    float64       \n",
            " 8   100.0                286 non-null    float64       \n",
            " 9   Дата                 286 non-null    datetime64[ns]\n",
            " 10  Аудитория            286 non-null    float64       \n",
            " 11  Место                286 non-null    object        \n",
            " 12  OB3                  286 non-null    float64       \n",
            " 13  Пол                  286 non-null    float64       \n",
            " 14  Регион               286 non-null    object        \n",
            " 15  Кратое название  ОУ  286 non-null    object        \n",
            "dtypes: datetime64[ns](1), float64(10), object(5)\n",
            "memory usage: 35.9+ KB\n"
          ]
        }
      ]
    },
    {
      "cell_type": "code",
      "source": [
        "df_19_inf = grade_of_solution_B(df_19_inf)"
      ],
      "metadata": {
        "id": "82yZR1uNATvX"
      },
      "execution_count": 135,
      "outputs": []
    },
    {
      "cell_type": "code",
      "source": [
        "df_19_inf = grade_of_solution_C(df_19_inf)"
      ],
      "metadata": {
        "id": "CNa3Abj8FrhN"
      },
      "execution_count": 136,
      "outputs": []
    },
    {
      "cell_type": "markdown",
      "source": [
        "### Проверка"
      ],
      "metadata": {
        "id": "V8AyZODRIqBl"
      }
    },
    {
      "cell_type": "code",
      "source": [
        "df_19_inf.info()"
      ],
      "metadata": {
        "id": "czULoBBrIHsA",
        "colab": {
          "base_uri": "https://localhost:8080/"
        },
        "outputId": "d0eb1437-615b-4596-e80e-026bfb2cbeee"
      },
      "execution_count": 137,
      "outputs": [
        {
          "output_type": "stream",
          "name": "stdout",
          "text": [
            "<class 'pandas.core.frame.DataFrame'>\n",
            "RangeIndex: 286 entries, 0 to 285\n",
            "Data columns (total 43 columns):\n",
            " #   Column               Non-Null Count  Dtype         \n",
            "---  ------               --------------  -----         \n",
            " 0   24                   286 non-null    int64         \n",
            " 1   25                   286 non-null    int64         \n",
            " 2   26                   286 non-null    int64         \n",
            " 3   27                   286 non-null    int64         \n",
            " 4   1                    286 non-null    int64         \n",
            " 5   2                    286 non-null    int64         \n",
            " 6   3                    286 non-null    int64         \n",
            " 7   4                    286 non-null    int64         \n",
            " 8   5                    286 non-null    int64         \n",
            " 9   6                    286 non-null    int64         \n",
            " 10  7                    286 non-null    int64         \n",
            " 11  8                    286 non-null    int64         \n",
            " 12  9                    286 non-null    int64         \n",
            " 13  10                   286 non-null    int64         \n",
            " 14  11                   286 non-null    int64         \n",
            " 15  12                   286 non-null    int64         \n",
            " 16  13                   286 non-null    int64         \n",
            " 17  14                   286 non-null    int64         \n",
            " 18  15                   286 non-null    int64         \n",
            " 19  16                   286 non-null    int64         \n",
            " 20  17                   286 non-null    int64         \n",
            " 21  18                   286 non-null    int64         \n",
            " 22  19                   286 non-null    int64         \n",
            " 23  20                   286 non-null    int64         \n",
            " 24  21                   286 non-null    int64         \n",
            " 25  22                   286 non-null    int64         \n",
            " 26  23                   286 non-null    int64         \n",
            " 27  МСУ                  286 non-null    float64       \n",
            " 28  Код предмета         286 non-null    float64       \n",
            " 29  ППЭ                  286 non-null    float64       \n",
            " 30  ОО                   286 non-null    float64       \n",
            " 31  Вариант              286 non-null    float64       \n",
            " 32  В                    286 non-null    object        \n",
            " 33  С                    286 non-null    object        \n",
            " 34  Первич               286 non-null    float64       \n",
            " 35  100.0                286 non-null    float64       \n",
            " 36  Дата                 286 non-null    datetime64[ns]\n",
            " 37  Аудитория            286 non-null    float64       \n",
            " 38  Место                286 non-null    object        \n",
            " 39  OB3                  286 non-null    float64       \n",
            " 40  Пол                  286 non-null    float64       \n",
            " 41  Регион               286 non-null    object        \n",
            " 42  Кратое название  ОУ  286 non-null    object        \n",
            "dtypes: datetime64[ns](1), float64(10), int64(27), object(5)\n",
            "memory usage: 96.2+ KB\n"
          ]
        }
      ]
    },
    {
      "cell_type": "code",
      "source": [
        "df_20_inf.info()"
      ],
      "metadata": {
        "id": "h11W6KicILCp",
        "colab": {
          "base_uri": "https://localhost:8080/"
        },
        "outputId": "7c5007f9-f32f-4f2a-ebd2-258a2047efcb"
      },
      "execution_count": 138,
      "outputs": [
        {
          "output_type": "stream",
          "name": "stdout",
          "text": [
            "<class 'pandas.core.frame.DataFrame'>\n",
            "RangeIndex: 320 entries, 0 to 319\n",
            "Data columns (total 43 columns):\n",
            " #   Column               Non-Null Count  Dtype         \n",
            "---  ------               --------------  -----         \n",
            " 0   24                   320 non-null    int64         \n",
            " 1   25                   320 non-null    int64         \n",
            " 2   26                   320 non-null    int64         \n",
            " 3   27                   320 non-null    int64         \n",
            " 4   1                    320 non-null    int64         \n",
            " 5   2                    320 non-null    int64         \n",
            " 6   3                    320 non-null    int64         \n",
            " 7   4                    320 non-null    int64         \n",
            " 8   5                    320 non-null    int64         \n",
            " 9   6                    320 non-null    int64         \n",
            " 10  7                    320 non-null    int64         \n",
            " 11  8                    320 non-null    int64         \n",
            " 12  9                    320 non-null    int64         \n",
            " 13  10                   320 non-null    int64         \n",
            " 14  11                   320 non-null    int64         \n",
            " 15  12                   320 non-null    int64         \n",
            " 16  13                   320 non-null    int64         \n",
            " 17  14                   320 non-null    int64         \n",
            " 18  15                   320 non-null    int64         \n",
            " 19  16                   320 non-null    int64         \n",
            " 20  17                   320 non-null    int64         \n",
            " 21  18                   320 non-null    int64         \n",
            " 22  19                   320 non-null    int64         \n",
            " 23  20                   320 non-null    int64         \n",
            " 24  21                   320 non-null    int64         \n",
            " 25  22                   320 non-null    int64         \n",
            " 26  23                   320 non-null    int64         \n",
            " 27  МСУ                  320 non-null    float64       \n",
            " 28  Код предмета         320 non-null    float64       \n",
            " 29  ППЭ                  320 non-null    float64       \n",
            " 30  ОО                   320 non-null    float64       \n",
            " 31  Вариант              320 non-null    float64       \n",
            " 32  В                    320 non-null    object        \n",
            " 33  С                    320 non-null    object        \n",
            " 34  Первич               320 non-null    float64       \n",
            " 35  100.0                320 non-null    float64       \n",
            " 36  Дата                 320 non-null    datetime64[ns]\n",
            " 37  Аудитория            320 non-null    float64       \n",
            " 38  Место                320 non-null    object        \n",
            " 39  OB3                  320 non-null    float64       \n",
            " 40  Пол                  320 non-null    float64       \n",
            " 41  Район                320 non-null    object        \n",
            " 42  Кратое название  ОУ  320 non-null    object        \n",
            "dtypes: datetime64[ns](1), float64(10), int64(27), object(5)\n",
            "memory usage: 107.6+ KB\n"
          ]
        }
      ]
    },
    {
      "cell_type": "code",
      "source": [
        "df_21_inf.info()"
      ],
      "metadata": {
        "id": "G-rOVB9ZIMTY",
        "colab": {
          "base_uri": "https://localhost:8080/"
        },
        "outputId": "3d5a3ee2-222e-4255-d618-1452ab2816df"
      },
      "execution_count": 139,
      "outputs": [
        {
          "output_type": "stream",
          "name": "stdout",
          "text": [
            "<class 'pandas.core.frame.DataFrame'>\n",
            "RangeIndex: 315 entries, 0 to 314\n",
            "Data columns (total 42 columns):\n",
            " #   Column               Non-Null Count  Dtype         \n",
            "---  ------               --------------  -----         \n",
            " 0   1                    315 non-null    int64         \n",
            " 1   2                    315 non-null    int64         \n",
            " 2   3                    315 non-null    int64         \n",
            " 3   4                    315 non-null    int64         \n",
            " 4   5                    315 non-null    int64         \n",
            " 5   6                    315 non-null    int64         \n",
            " 6   7                    315 non-null    int64         \n",
            " 7   8                    315 non-null    int64         \n",
            " 8   9                    315 non-null    int64         \n",
            " 9   10                   315 non-null    int64         \n",
            " 10  11                   315 non-null    int64         \n",
            " 11  12                   315 non-null    int64         \n",
            " 12  13                   315 non-null    int64         \n",
            " 13  14                   315 non-null    int64         \n",
            " 14  15                   315 non-null    int64         \n",
            " 15  16                   315 non-null    int64         \n",
            " 16  17                   315 non-null    int64         \n",
            " 17  18                   315 non-null    int64         \n",
            " 18  19                   315 non-null    int64         \n",
            " 19  20                   315 non-null    int64         \n",
            " 20  21                   315 non-null    int64         \n",
            " 21  22                   315 non-null    int64         \n",
            " 22  23                   315 non-null    int64         \n",
            " 23  24                   315 non-null    int64         \n",
            " 24  25                   315 non-null    int64         \n",
            " 25  26                   315 non-null    int64         \n",
            " 26  27                   315 non-null    int64         \n",
            " 27  МСУ                  315 non-null    float64       \n",
            " 28  Код предмета         315 non-null    float64       \n",
            " 29  ППЭ                  315 non-null    float64       \n",
            " 30  ОО                   315 non-null    float64       \n",
            " 31  Вариант              315 non-null    float64       \n",
            " 32  В                    315 non-null    object        \n",
            " 33  Первич               315 non-null    object        \n",
            " 34  100.0                315 non-null    float64       \n",
            " 35  Дата                 315 non-null    datetime64[ns]\n",
            " 36  Аудитория            315 non-null    float64       \n",
            " 37  Место                315 non-null    object        \n",
            " 38  OB3                  315 non-null    object        \n",
            " 39  Пол                  315 non-null    float64       \n",
            " 40  Район                315 non-null    object        \n",
            " 41  Кратое название  ОУ  315 non-null    object        \n",
            "dtypes: datetime64[ns](1), float64(8), int64(27), object(6)\n",
            "memory usage: 103.5+ KB\n"
          ]
        }
      ]
    },
    {
      "cell_type": "code",
      "source": [
        ""
      ],
      "metadata": {
        "id": "ts7-uBZHqbov"
      },
      "execution_count": 139,
      "outputs": []
    },
    {
      "cell_type": "markdown",
      "source": [
        "# Анализ"
      ],
      "metadata": {
        "id": "TxEA3hopqQbI"
      }
    },
    {
      "cell_type": "markdown",
      "source": [
        "## Рассмотрим, все номера "
      ],
      "metadata": {
        "id": "1GI7lObgv5HV"
      }
    },
    {
      "cell_type": "code",
      "source": [
        "df_21_inf.corr()"
      ],
      "metadata": {
        "colab": {
          "base_uri": "https://localhost:8080/",
          "height": 0
        },
        "id": "Cj7XBGTx6jXu",
        "outputId": "f1feda6c-69ac-41a3-f13b-f86a8bd59179"
      },
      "execution_count": 140,
      "outputs": [
        {
          "output_type": "execute_result",
          "data": {
            "text/plain": [
              "                     1         2         3         4         5         6  \\\n",
              "1             1.000000  0.217013  0.150939  0.215511  0.133504  0.331807   \n",
              "2             0.217013  1.000000  0.221905  0.355081  0.360497  0.247397   \n",
              "3             0.150939  0.221905  1.000000  0.212691  0.164348  0.126894   \n",
              "4             0.215511  0.355081  0.212691  1.000000  0.297989  0.334242   \n",
              "5             0.133504  0.360497  0.164348  0.297989  1.000000  0.292750   \n",
              "6             0.331807  0.247397  0.126894  0.334242  0.292750  1.000000   \n",
              "7             0.220468  0.352029  0.208636  0.225965  0.322488  0.215179   \n",
              "8             0.135741  0.221308  0.150888  0.257977  0.384222  0.292159   \n",
              "9             0.213640  0.162728  0.074389  0.267147  0.162304  0.201168   \n",
              "10            0.209799  0.267272  0.162562  0.253424  0.246864  0.184855   \n",
              "11            0.192841  0.237105  0.046725  0.304876  0.265676  0.288910   \n",
              "12            0.195270  0.328280  0.053176  0.313655  0.460728  0.329998   \n",
              "13            0.195065  0.205832  0.063758  0.122853  0.223414  0.144158   \n",
              "14            0.259095  0.386436  0.159736  0.218176  0.385767  0.346357   \n",
              "15            0.139198  0.392105  0.082830  0.249709  0.306929  0.320930   \n",
              "16            0.212049  0.397687  0.096789  0.287659  0.420459  0.382028   \n",
              "17            0.214738  0.425886  0.111635  0.333477  0.398769  0.347443   \n",
              "18            0.174352  0.259843  0.176507  0.213288  0.315191  0.223801   \n",
              "19            0.180408  0.223474  0.134741  0.287497  0.262758  0.266337   \n",
              "20            0.157059  0.392623  0.104701  0.376915  0.414396  0.320419   \n",
              "21            0.151606  0.305267  0.076082  0.235685  0.265751  0.223001   \n",
              "22            0.067759  0.246208  0.050202  0.188455  0.373298  0.401775   \n",
              "23            0.133344  0.332796  0.117120  0.203244  0.279128  0.283597   \n",
              "24            0.127679  0.243256  0.066414  0.148054  0.181848  0.202997   \n",
              "25            0.189073  0.323719  0.136933  0.248745  0.268503  0.241889   \n",
              "26            0.160143  0.243818  0.046782  0.167840  0.239294  0.184649   \n",
              "27            0.098358  0.158476  0.038424  0.118811  0.176899  0.095900   \n",
              "МСУ          -0.125101 -0.002830  0.012088  0.069991 -0.006436 -0.088733   \n",
              "Код предмета       NaN       NaN       NaN       NaN       NaN       NaN   \n",
              "ППЭ           0.023541 -0.042697  0.046511  0.059869 -0.011270  0.030224   \n",
              "ОО           -0.029872  0.001954 -0.019951 -0.021378 -0.022651 -0.038051   \n",
              "Вариант      -0.023696 -0.124290 -0.030339 -0.015079 -0.012419  0.012547   \n",
              "100.0         0.431301  0.581904  0.297703  0.546109  0.579372  0.550569   \n",
              "Аудитория     0.016509  0.075863 -0.025671  0.008856  0.075165  0.008066   \n",
              "Пол           0.046207  0.077104  0.021249  0.006108  0.009917 -0.037081   \n",
              "\n",
              "                     7         8         9        10  ...        26        27  \\\n",
              "1             0.220468  0.135741  0.213640  0.209799  ...  0.160143  0.098358   \n",
              "2             0.352029  0.221308  0.162728  0.267272  ...  0.243818  0.158476   \n",
              "3             0.208636  0.150888  0.074389  0.162562  ...  0.046782  0.038424   \n",
              "4             0.225965  0.257977  0.267147  0.253424  ...  0.167840  0.118811   \n",
              "5             0.322488  0.384222  0.162304  0.246864  ...  0.239294  0.176899   \n",
              "6             0.215179  0.292159  0.201168  0.184855  ...  0.184649  0.095900   \n",
              "7             1.000000  0.364760  0.217545  0.300076  ...  0.310696  0.168808   \n",
              "8             0.364760  1.000000  0.126624  0.209191  ...  0.282126  0.240539   \n",
              "9             0.217545  0.126624  1.000000  0.284634  ...  0.201749  0.128098   \n",
              "10            0.300076  0.209191  0.284634  1.000000  ...  0.231359  0.103412   \n",
              "11            0.479867  0.215321  0.279654  0.247158  ...  0.295326  0.213664   \n",
              "12            0.334190  0.292631  0.227163  0.266876  ...  0.270375  0.154615   \n",
              "13            0.190267  0.141172  0.168915  0.192863  ...  0.182764  0.078221   \n",
              "14            0.403150  0.416124  0.252233  0.264479  ...  0.359466  0.229273   \n",
              "15            0.351537  0.413549  0.152729  0.158945  ...  0.404382  0.226269   \n",
              "16            0.445585  0.285135  0.241791  0.291100  ...  0.246063  0.215900   \n",
              "17            0.292029  0.291725  0.250298  0.302837  ...  0.259698  0.181087   \n",
              "18            0.374087  0.267769  0.278636  0.292940  ...  0.396654  0.266327   \n",
              "19            0.304744  0.296416  0.275966  0.274600  ...  0.199725  0.108516   \n",
              "20            0.414180  0.367539  0.210384  0.216460  ...  0.301050  0.147546   \n",
              "21            0.332709  0.317606  0.094237  0.219322  ...  0.396118  0.164830   \n",
              "22            0.260395  0.218886  0.193873  0.243728  ...  0.269507  0.178830   \n",
              "23            0.426655  0.317606  0.220495  0.189678  ...  0.329688  0.146522   \n",
              "24            0.331012  0.300644  0.220680  0.195742  ...  0.511739  0.305773   \n",
              "25            0.387462  0.404210  0.245016  0.267252  ...  0.573026  0.392347   \n",
              "26            0.310696  0.282126  0.201749  0.231359  ...  1.000000  0.407780   \n",
              "27            0.168808  0.240539  0.128098  0.103412  ...  0.407780  1.000000   \n",
              "МСУ          -0.018614 -0.186237  0.021967  0.056954  ... -0.047827 -0.099553   \n",
              "Код предмета       NaN       NaN       NaN       NaN  ...       NaN       NaN   \n",
              "ППЭ           0.065976 -0.014398  0.026676 -0.055820  ... -0.020019 -0.028793   \n",
              "ОО           -0.036469 -0.027483 -0.002952 -0.023494  ...  0.045047 -0.118996   \n",
              "Вариант       0.061392  0.060092 -0.017908  0.013114  ...  0.022279  0.008936   \n",
              "100.0         0.610873  0.542411  0.439789  0.494458  ...  0.525733  0.343122   \n",
              "Аудитория     0.061728  0.045621  0.050815 -0.010759  ...  0.039583  0.099829   \n",
              "Пол           0.025112 -0.046416  0.099221  0.020234  ...  0.031922 -0.061188   \n",
              "\n",
              "                   МСУ  Код предмета       ППЭ        ОО   Вариант     100.0  \\\n",
              "1            -0.125101           NaN  0.023541 -0.029872 -0.023696  0.431301   \n",
              "2            -0.002830           NaN -0.042697  0.001954 -0.124290  0.581904   \n",
              "3             0.012088           NaN  0.046511 -0.019951 -0.030339  0.297703   \n",
              "4             0.069991           NaN  0.059869 -0.021378 -0.015079  0.546109   \n",
              "5            -0.006436           NaN -0.011270 -0.022651 -0.012419  0.579372   \n",
              "6            -0.088733           NaN  0.030224 -0.038051  0.012547  0.550569   \n",
              "7            -0.018614           NaN  0.065976 -0.036469  0.061392  0.610873   \n",
              "8            -0.186237           NaN -0.014398 -0.027483  0.060092  0.542411   \n",
              "9             0.021967           NaN  0.026676 -0.002952 -0.017908  0.439789   \n",
              "10            0.056954           NaN -0.055820 -0.023494  0.013114  0.494458   \n",
              "11            0.077746           NaN  0.074933 -0.098512  0.230259  0.577744   \n",
              "12           -0.101573           NaN -0.077327 -0.010149  0.035872  0.617679   \n",
              "13            0.083175           NaN  0.047233  0.052798  0.085891  0.421515   \n",
              "14           -0.070214           NaN  0.002019 -0.083251  0.063542  0.659360   \n",
              "15           -0.143903           NaN -0.078269 -0.067913  0.042433  0.596524   \n",
              "16            0.003385           NaN  0.090735  0.026605  0.056570  0.639181   \n",
              "17           -0.002019           NaN -0.030124  0.028391 -0.025919  0.631212   \n",
              "18            0.058634           NaN  0.019597 -0.037496  0.046530  0.576397   \n",
              "19           -0.033383           NaN  0.000175 -0.047751  0.127939  0.539946   \n",
              "20           -0.121067           NaN -0.000090 -0.022970  0.096211  0.639102   \n",
              "21           -0.182852           NaN  0.003853  0.018487  0.120170  0.525104   \n",
              "22           -0.088716           NaN -0.079243 -0.091119 -0.047099  0.517276   \n",
              "23           -0.029415           NaN  0.095627 -0.047853  0.142453  0.578865   \n",
              "24           -0.132158           NaN -0.056760  0.052797  0.102003  0.505526   \n",
              "25           -0.180410           NaN -0.093662 -0.066109  0.123053  0.637426   \n",
              "26           -0.047827           NaN -0.020019  0.045047  0.022279  0.525733   \n",
              "27           -0.099553           NaN -0.028793 -0.118996  0.008936  0.343122   \n",
              "МСУ           1.000000           NaN  0.291807  0.184090 -0.020930 -0.065257   \n",
              "Код предмета       NaN           NaN       NaN       NaN       NaN       NaN   \n",
              "ППЭ           0.291807           NaN  1.000000 -0.008338  0.017006  0.005584   \n",
              "ОО            0.184090           NaN -0.008338  1.000000  0.064791 -0.050274   \n",
              "Вариант      -0.020930           NaN  0.017006  0.064791  1.000000  0.068050   \n",
              "100.0        -0.065257           NaN  0.005584 -0.050274  0.068050  1.000000   \n",
              "Аудитория     0.090096           NaN -0.027161  0.047982 -0.041209  0.078306   \n",
              "Пол           0.053086           NaN -0.025760  0.059244 -0.032406  0.028055   \n",
              "\n",
              "              Аудитория       Пол  \n",
              "1              0.016509  0.046207  \n",
              "2              0.075863  0.077104  \n",
              "3             -0.025671  0.021249  \n",
              "4              0.008856  0.006108  \n",
              "5              0.075165  0.009917  \n",
              "6              0.008066 -0.037081  \n",
              "7              0.061728  0.025112  \n",
              "8              0.045621 -0.046416  \n",
              "9              0.050815  0.099221  \n",
              "10            -0.010759  0.020234  \n",
              "11             0.089425  0.018623  \n",
              "12             0.023203  0.003770  \n",
              "13             0.016292  0.047131  \n",
              "14             0.011662 -0.000946  \n",
              "15            -0.051696 -0.009867  \n",
              "16             0.005798  0.068403  \n",
              "17             0.015710  0.112952  \n",
              "18             0.110245  0.065004  \n",
              "19             0.093909 -0.060060  \n",
              "20             0.063856 -0.011161  \n",
              "21             0.061036 -0.047216  \n",
              "22             0.019076 -0.001776  \n",
              "23             0.029079  0.022122  \n",
              "24             0.179983  0.043764  \n",
              "25             0.136270  0.021118  \n",
              "26             0.039583  0.031922  \n",
              "27             0.099829 -0.061188  \n",
              "МСУ            0.090096  0.053086  \n",
              "Код предмета        NaN       NaN  \n",
              "ППЭ           -0.027161 -0.025760  \n",
              "ОО             0.047982  0.059244  \n",
              "Вариант       -0.041209 -0.032406  \n",
              "100.0          0.078306  0.028055  \n",
              "Аудитория      1.000000  0.029522  \n",
              "Пол            0.029522  1.000000  \n",
              "\n",
              "[35 rows x 35 columns]"
            ],
            "text/html": [
              "\n",
              "  <div id=\"df-d54cbfb6-4d2a-49b2-b3da-b8af5cc36277\">\n",
              "    <div class=\"colab-df-container\">\n",
              "      <div>\n",
              "<style scoped>\n",
              "    .dataframe tbody tr th:only-of-type {\n",
              "        vertical-align: middle;\n",
              "    }\n",
              "\n",
              "    .dataframe tbody tr th {\n",
              "        vertical-align: top;\n",
              "    }\n",
              "\n",
              "    .dataframe thead th {\n",
              "        text-align: right;\n",
              "    }\n",
              "</style>\n",
              "<table border=\"1\" class=\"dataframe\">\n",
              "  <thead>\n",
              "    <tr style=\"text-align: right;\">\n",
              "      <th></th>\n",
              "      <th>1</th>\n",
              "      <th>2</th>\n",
              "      <th>3</th>\n",
              "      <th>4</th>\n",
              "      <th>5</th>\n",
              "      <th>6</th>\n",
              "      <th>7</th>\n",
              "      <th>8</th>\n",
              "      <th>9</th>\n",
              "      <th>10</th>\n",
              "      <th>...</th>\n",
              "      <th>26</th>\n",
              "      <th>27</th>\n",
              "      <th>МСУ</th>\n",
              "      <th>Код предмета</th>\n",
              "      <th>ППЭ</th>\n",
              "      <th>ОО</th>\n",
              "      <th>Вариант</th>\n",
              "      <th>100.0</th>\n",
              "      <th>Аудитория</th>\n",
              "      <th>Пол</th>\n",
              "    </tr>\n",
              "  </thead>\n",
              "  <tbody>\n",
              "    <tr>\n",
              "      <th>1</th>\n",
              "      <td>1.000000</td>\n",
              "      <td>0.217013</td>\n",
              "      <td>0.150939</td>\n",
              "      <td>0.215511</td>\n",
              "      <td>0.133504</td>\n",
              "      <td>0.331807</td>\n",
              "      <td>0.220468</td>\n",
              "      <td>0.135741</td>\n",
              "      <td>0.213640</td>\n",
              "      <td>0.209799</td>\n",
              "      <td>...</td>\n",
              "      <td>0.160143</td>\n",
              "      <td>0.098358</td>\n",
              "      <td>-0.125101</td>\n",
              "      <td>NaN</td>\n",
              "      <td>0.023541</td>\n",
              "      <td>-0.029872</td>\n",
              "      <td>-0.023696</td>\n",
              "      <td>0.431301</td>\n",
              "      <td>0.016509</td>\n",
              "      <td>0.046207</td>\n",
              "    </tr>\n",
              "    <tr>\n",
              "      <th>2</th>\n",
              "      <td>0.217013</td>\n",
              "      <td>1.000000</td>\n",
              "      <td>0.221905</td>\n",
              "      <td>0.355081</td>\n",
              "      <td>0.360497</td>\n",
              "      <td>0.247397</td>\n",
              "      <td>0.352029</td>\n",
              "      <td>0.221308</td>\n",
              "      <td>0.162728</td>\n",
              "      <td>0.267272</td>\n",
              "      <td>...</td>\n",
              "      <td>0.243818</td>\n",
              "      <td>0.158476</td>\n",
              "      <td>-0.002830</td>\n",
              "      <td>NaN</td>\n",
              "      <td>-0.042697</td>\n",
              "      <td>0.001954</td>\n",
              "      <td>-0.124290</td>\n",
              "      <td>0.581904</td>\n",
              "      <td>0.075863</td>\n",
              "      <td>0.077104</td>\n",
              "    </tr>\n",
              "    <tr>\n",
              "      <th>3</th>\n",
              "      <td>0.150939</td>\n",
              "      <td>0.221905</td>\n",
              "      <td>1.000000</td>\n",
              "      <td>0.212691</td>\n",
              "      <td>0.164348</td>\n",
              "      <td>0.126894</td>\n",
              "      <td>0.208636</td>\n",
              "      <td>0.150888</td>\n",
              "      <td>0.074389</td>\n",
              "      <td>0.162562</td>\n",
              "      <td>...</td>\n",
              "      <td>0.046782</td>\n",
              "      <td>0.038424</td>\n",
              "      <td>0.012088</td>\n",
              "      <td>NaN</td>\n",
              "      <td>0.046511</td>\n",
              "      <td>-0.019951</td>\n",
              "      <td>-0.030339</td>\n",
              "      <td>0.297703</td>\n",
              "      <td>-0.025671</td>\n",
              "      <td>0.021249</td>\n",
              "    </tr>\n",
              "    <tr>\n",
              "      <th>4</th>\n",
              "      <td>0.215511</td>\n",
              "      <td>0.355081</td>\n",
              "      <td>0.212691</td>\n",
              "      <td>1.000000</td>\n",
              "      <td>0.297989</td>\n",
              "      <td>0.334242</td>\n",
              "      <td>0.225965</td>\n",
              "      <td>0.257977</td>\n",
              "      <td>0.267147</td>\n",
              "      <td>0.253424</td>\n",
              "      <td>...</td>\n",
              "      <td>0.167840</td>\n",
              "      <td>0.118811</td>\n",
              "      <td>0.069991</td>\n",
              "      <td>NaN</td>\n",
              "      <td>0.059869</td>\n",
              "      <td>-0.021378</td>\n",
              "      <td>-0.015079</td>\n",
              "      <td>0.546109</td>\n",
              "      <td>0.008856</td>\n",
              "      <td>0.006108</td>\n",
              "    </tr>\n",
              "    <tr>\n",
              "      <th>5</th>\n",
              "      <td>0.133504</td>\n",
              "      <td>0.360497</td>\n",
              "      <td>0.164348</td>\n",
              "      <td>0.297989</td>\n",
              "      <td>1.000000</td>\n",
              "      <td>0.292750</td>\n",
              "      <td>0.322488</td>\n",
              "      <td>0.384222</td>\n",
              "      <td>0.162304</td>\n",
              "      <td>0.246864</td>\n",
              "      <td>...</td>\n",
              "      <td>0.239294</td>\n",
              "      <td>0.176899</td>\n",
              "      <td>-0.006436</td>\n",
              "      <td>NaN</td>\n",
              "      <td>-0.011270</td>\n",
              "      <td>-0.022651</td>\n",
              "      <td>-0.012419</td>\n",
              "      <td>0.579372</td>\n",
              "      <td>0.075165</td>\n",
              "      <td>0.009917</td>\n",
              "    </tr>\n",
              "    <tr>\n",
              "      <th>6</th>\n",
              "      <td>0.331807</td>\n",
              "      <td>0.247397</td>\n",
              "      <td>0.126894</td>\n",
              "      <td>0.334242</td>\n",
              "      <td>0.292750</td>\n",
              "      <td>1.000000</td>\n",
              "      <td>0.215179</td>\n",
              "      <td>0.292159</td>\n",
              "      <td>0.201168</td>\n",
              "      <td>0.184855</td>\n",
              "      <td>...</td>\n",
              "      <td>0.184649</td>\n",
              "      <td>0.095900</td>\n",
              "      <td>-0.088733</td>\n",
              "      <td>NaN</td>\n",
              "      <td>0.030224</td>\n",
              "      <td>-0.038051</td>\n",
              "      <td>0.012547</td>\n",
              "      <td>0.550569</td>\n",
              "      <td>0.008066</td>\n",
              "      <td>-0.037081</td>\n",
              "    </tr>\n",
              "    <tr>\n",
              "      <th>7</th>\n",
              "      <td>0.220468</td>\n",
              "      <td>0.352029</td>\n",
              "      <td>0.208636</td>\n",
              "      <td>0.225965</td>\n",
              "      <td>0.322488</td>\n",
              "      <td>0.215179</td>\n",
              "      <td>1.000000</td>\n",
              "      <td>0.364760</td>\n",
              "      <td>0.217545</td>\n",
              "      <td>0.300076</td>\n",
              "      <td>...</td>\n",
              "      <td>0.310696</td>\n",
              "      <td>0.168808</td>\n",
              "      <td>-0.018614</td>\n",
              "      <td>NaN</td>\n",
              "      <td>0.065976</td>\n",
              "      <td>-0.036469</td>\n",
              "      <td>0.061392</td>\n",
              "      <td>0.610873</td>\n",
              "      <td>0.061728</td>\n",
              "      <td>0.025112</td>\n",
              "    </tr>\n",
              "    <tr>\n",
              "      <th>8</th>\n",
              "      <td>0.135741</td>\n",
              "      <td>0.221308</td>\n",
              "      <td>0.150888</td>\n",
              "      <td>0.257977</td>\n",
              "      <td>0.384222</td>\n",
              "      <td>0.292159</td>\n",
              "      <td>0.364760</td>\n",
              "      <td>1.000000</td>\n",
              "      <td>0.126624</td>\n",
              "      <td>0.209191</td>\n",
              "      <td>...</td>\n",
              "      <td>0.282126</td>\n",
              "      <td>0.240539</td>\n",
              "      <td>-0.186237</td>\n",
              "      <td>NaN</td>\n",
              "      <td>-0.014398</td>\n",
              "      <td>-0.027483</td>\n",
              "      <td>0.060092</td>\n",
              "      <td>0.542411</td>\n",
              "      <td>0.045621</td>\n",
              "      <td>-0.046416</td>\n",
              "    </tr>\n",
              "    <tr>\n",
              "      <th>9</th>\n",
              "      <td>0.213640</td>\n",
              "      <td>0.162728</td>\n",
              "      <td>0.074389</td>\n",
              "      <td>0.267147</td>\n",
              "      <td>0.162304</td>\n",
              "      <td>0.201168</td>\n",
              "      <td>0.217545</td>\n",
              "      <td>0.126624</td>\n",
              "      <td>1.000000</td>\n",
              "      <td>0.284634</td>\n",
              "      <td>...</td>\n",
              "      <td>0.201749</td>\n",
              "      <td>0.128098</td>\n",
              "      <td>0.021967</td>\n",
              "      <td>NaN</td>\n",
              "      <td>0.026676</td>\n",
              "      <td>-0.002952</td>\n",
              "      <td>-0.017908</td>\n",
              "      <td>0.439789</td>\n",
              "      <td>0.050815</td>\n",
              "      <td>0.099221</td>\n",
              "    </tr>\n",
              "    <tr>\n",
              "      <th>10</th>\n",
              "      <td>0.209799</td>\n",
              "      <td>0.267272</td>\n",
              "      <td>0.162562</td>\n",
              "      <td>0.253424</td>\n",
              "      <td>0.246864</td>\n",
              "      <td>0.184855</td>\n",
              "      <td>0.300076</td>\n",
              "      <td>0.209191</td>\n",
              "      <td>0.284634</td>\n",
              "      <td>1.000000</td>\n",
              "      <td>...</td>\n",
              "      <td>0.231359</td>\n",
              "      <td>0.103412</td>\n",
              "      <td>0.056954</td>\n",
              "      <td>NaN</td>\n",
              "      <td>-0.055820</td>\n",
              "      <td>-0.023494</td>\n",
              "      <td>0.013114</td>\n",
              "      <td>0.494458</td>\n",
              "      <td>-0.010759</td>\n",
              "      <td>0.020234</td>\n",
              "    </tr>\n",
              "    <tr>\n",
              "      <th>11</th>\n",
              "      <td>0.192841</td>\n",
              "      <td>0.237105</td>\n",
              "      <td>0.046725</td>\n",
              "      <td>0.304876</td>\n",
              "      <td>0.265676</td>\n",
              "      <td>0.288910</td>\n",
              "      <td>0.479867</td>\n",
              "      <td>0.215321</td>\n",
              "      <td>0.279654</td>\n",
              "      <td>0.247158</td>\n",
              "      <td>...</td>\n",
              "      <td>0.295326</td>\n",
              "      <td>0.213664</td>\n",
              "      <td>0.077746</td>\n",
              "      <td>NaN</td>\n",
              "      <td>0.074933</td>\n",
              "      <td>-0.098512</td>\n",
              "      <td>0.230259</td>\n",
              "      <td>0.577744</td>\n",
              "      <td>0.089425</td>\n",
              "      <td>0.018623</td>\n",
              "    </tr>\n",
              "    <tr>\n",
              "      <th>12</th>\n",
              "      <td>0.195270</td>\n",
              "      <td>0.328280</td>\n",
              "      <td>0.053176</td>\n",
              "      <td>0.313655</td>\n",
              "      <td>0.460728</td>\n",
              "      <td>0.329998</td>\n",
              "      <td>0.334190</td>\n",
              "      <td>0.292631</td>\n",
              "      <td>0.227163</td>\n",
              "      <td>0.266876</td>\n",
              "      <td>...</td>\n",
              "      <td>0.270375</td>\n",
              "      <td>0.154615</td>\n",
              "      <td>-0.101573</td>\n",
              "      <td>NaN</td>\n",
              "      <td>-0.077327</td>\n",
              "      <td>-0.010149</td>\n",
              "      <td>0.035872</td>\n",
              "      <td>0.617679</td>\n",
              "      <td>0.023203</td>\n",
              "      <td>0.003770</td>\n",
              "    </tr>\n",
              "    <tr>\n",
              "      <th>13</th>\n",
              "      <td>0.195065</td>\n",
              "      <td>0.205832</td>\n",
              "      <td>0.063758</td>\n",
              "      <td>0.122853</td>\n",
              "      <td>0.223414</td>\n",
              "      <td>0.144158</td>\n",
              "      <td>0.190267</td>\n",
              "      <td>0.141172</td>\n",
              "      <td>0.168915</td>\n",
              "      <td>0.192863</td>\n",
              "      <td>...</td>\n",
              "      <td>0.182764</td>\n",
              "      <td>0.078221</td>\n",
              "      <td>0.083175</td>\n",
              "      <td>NaN</td>\n",
              "      <td>0.047233</td>\n",
              "      <td>0.052798</td>\n",
              "      <td>0.085891</td>\n",
              "      <td>0.421515</td>\n",
              "      <td>0.016292</td>\n",
              "      <td>0.047131</td>\n",
              "    </tr>\n",
              "    <tr>\n",
              "      <th>14</th>\n",
              "      <td>0.259095</td>\n",
              "      <td>0.386436</td>\n",
              "      <td>0.159736</td>\n",
              "      <td>0.218176</td>\n",
              "      <td>0.385767</td>\n",
              "      <td>0.346357</td>\n",
              "      <td>0.403150</td>\n",
              "      <td>0.416124</td>\n",
              "      <td>0.252233</td>\n",
              "      <td>0.264479</td>\n",
              "      <td>...</td>\n",
              "      <td>0.359466</td>\n",
              "      <td>0.229273</td>\n",
              "      <td>-0.070214</td>\n",
              "      <td>NaN</td>\n",
              "      <td>0.002019</td>\n",
              "      <td>-0.083251</td>\n",
              "      <td>0.063542</td>\n",
              "      <td>0.659360</td>\n",
              "      <td>0.011662</td>\n",
              "      <td>-0.000946</td>\n",
              "    </tr>\n",
              "    <tr>\n",
              "      <th>15</th>\n",
              "      <td>0.139198</td>\n",
              "      <td>0.392105</td>\n",
              "      <td>0.082830</td>\n",
              "      <td>0.249709</td>\n",
              "      <td>0.306929</td>\n",
              "      <td>0.320930</td>\n",
              "      <td>0.351537</td>\n",
              "      <td>0.413549</td>\n",
              "      <td>0.152729</td>\n",
              "      <td>0.158945</td>\n",
              "      <td>...</td>\n",
              "      <td>0.404382</td>\n",
              "      <td>0.226269</td>\n",
              "      <td>-0.143903</td>\n",
              "      <td>NaN</td>\n",
              "      <td>-0.078269</td>\n",
              "      <td>-0.067913</td>\n",
              "      <td>0.042433</td>\n",
              "      <td>0.596524</td>\n",
              "      <td>-0.051696</td>\n",
              "      <td>-0.009867</td>\n",
              "    </tr>\n",
              "    <tr>\n",
              "      <th>16</th>\n",
              "      <td>0.212049</td>\n",
              "      <td>0.397687</td>\n",
              "      <td>0.096789</td>\n",
              "      <td>0.287659</td>\n",
              "      <td>0.420459</td>\n",
              "      <td>0.382028</td>\n",
              "      <td>0.445585</td>\n",
              "      <td>0.285135</td>\n",
              "      <td>0.241791</td>\n",
              "      <td>0.291100</td>\n",
              "      <td>...</td>\n",
              "      <td>0.246063</td>\n",
              "      <td>0.215900</td>\n",
              "      <td>0.003385</td>\n",
              "      <td>NaN</td>\n",
              "      <td>0.090735</td>\n",
              "      <td>0.026605</td>\n",
              "      <td>0.056570</td>\n",
              "      <td>0.639181</td>\n",
              "      <td>0.005798</td>\n",
              "      <td>0.068403</td>\n",
              "    </tr>\n",
              "    <tr>\n",
              "      <th>17</th>\n",
              "      <td>0.214738</td>\n",
              "      <td>0.425886</td>\n",
              "      <td>0.111635</td>\n",
              "      <td>0.333477</td>\n",
              "      <td>0.398769</td>\n",
              "      <td>0.347443</td>\n",
              "      <td>0.292029</td>\n",
              "      <td>0.291725</td>\n",
              "      <td>0.250298</td>\n",
              "      <td>0.302837</td>\n",
              "      <td>...</td>\n",
              "      <td>0.259698</td>\n",
              "      <td>0.181087</td>\n",
              "      <td>-0.002019</td>\n",
              "      <td>NaN</td>\n",
              "      <td>-0.030124</td>\n",
              "      <td>0.028391</td>\n",
              "      <td>-0.025919</td>\n",
              "      <td>0.631212</td>\n",
              "      <td>0.015710</td>\n",
              "      <td>0.112952</td>\n",
              "    </tr>\n",
              "    <tr>\n",
              "      <th>18</th>\n",
              "      <td>0.174352</td>\n",
              "      <td>0.259843</td>\n",
              "      <td>0.176507</td>\n",
              "      <td>0.213288</td>\n",
              "      <td>0.315191</td>\n",
              "      <td>0.223801</td>\n",
              "      <td>0.374087</td>\n",
              "      <td>0.267769</td>\n",
              "      <td>0.278636</td>\n",
              "      <td>0.292940</td>\n",
              "      <td>...</td>\n",
              "      <td>0.396654</td>\n",
              "      <td>0.266327</td>\n",
              "      <td>0.058634</td>\n",
              "      <td>NaN</td>\n",
              "      <td>0.019597</td>\n",
              "      <td>-0.037496</td>\n",
              "      <td>0.046530</td>\n",
              "      <td>0.576397</td>\n",
              "      <td>0.110245</td>\n",
              "      <td>0.065004</td>\n",
              "    </tr>\n",
              "    <tr>\n",
              "      <th>19</th>\n",
              "      <td>0.180408</td>\n",
              "      <td>0.223474</td>\n",
              "      <td>0.134741</td>\n",
              "      <td>0.287497</td>\n",
              "      <td>0.262758</td>\n",
              "      <td>0.266337</td>\n",
              "      <td>0.304744</td>\n",
              "      <td>0.296416</td>\n",
              "      <td>0.275966</td>\n",
              "      <td>0.274600</td>\n",
              "      <td>...</td>\n",
              "      <td>0.199725</td>\n",
              "      <td>0.108516</td>\n",
              "      <td>-0.033383</td>\n",
              "      <td>NaN</td>\n",
              "      <td>0.000175</td>\n",
              "      <td>-0.047751</td>\n",
              "      <td>0.127939</td>\n",
              "      <td>0.539946</td>\n",
              "      <td>0.093909</td>\n",
              "      <td>-0.060060</td>\n",
              "    </tr>\n",
              "    <tr>\n",
              "      <th>20</th>\n",
              "      <td>0.157059</td>\n",
              "      <td>0.392623</td>\n",
              "      <td>0.104701</td>\n",
              "      <td>0.376915</td>\n",
              "      <td>0.414396</td>\n",
              "      <td>0.320419</td>\n",
              "      <td>0.414180</td>\n",
              "      <td>0.367539</td>\n",
              "      <td>0.210384</td>\n",
              "      <td>0.216460</td>\n",
              "      <td>...</td>\n",
              "      <td>0.301050</td>\n",
              "      <td>0.147546</td>\n",
              "      <td>-0.121067</td>\n",
              "      <td>NaN</td>\n",
              "      <td>-0.000090</td>\n",
              "      <td>-0.022970</td>\n",
              "      <td>0.096211</td>\n",
              "      <td>0.639102</td>\n",
              "      <td>0.063856</td>\n",
              "      <td>-0.011161</td>\n",
              "    </tr>\n",
              "    <tr>\n",
              "      <th>21</th>\n",
              "      <td>0.151606</td>\n",
              "      <td>0.305267</td>\n",
              "      <td>0.076082</td>\n",
              "      <td>0.235685</td>\n",
              "      <td>0.265751</td>\n",
              "      <td>0.223001</td>\n",
              "      <td>0.332709</td>\n",
              "      <td>0.317606</td>\n",
              "      <td>0.094237</td>\n",
              "      <td>0.219322</td>\n",
              "      <td>...</td>\n",
              "      <td>0.396118</td>\n",
              "      <td>0.164830</td>\n",
              "      <td>-0.182852</td>\n",
              "      <td>NaN</td>\n",
              "      <td>0.003853</td>\n",
              "      <td>0.018487</td>\n",
              "      <td>0.120170</td>\n",
              "      <td>0.525104</td>\n",
              "      <td>0.061036</td>\n",
              "      <td>-0.047216</td>\n",
              "    </tr>\n",
              "    <tr>\n",
              "      <th>22</th>\n",
              "      <td>0.067759</td>\n",
              "      <td>0.246208</td>\n",
              "      <td>0.050202</td>\n",
              "      <td>0.188455</td>\n",
              "      <td>0.373298</td>\n",
              "      <td>0.401775</td>\n",
              "      <td>0.260395</td>\n",
              "      <td>0.218886</td>\n",
              "      <td>0.193873</td>\n",
              "      <td>0.243728</td>\n",
              "      <td>...</td>\n",
              "      <td>0.269507</td>\n",
              "      <td>0.178830</td>\n",
              "      <td>-0.088716</td>\n",
              "      <td>NaN</td>\n",
              "      <td>-0.079243</td>\n",
              "      <td>-0.091119</td>\n",
              "      <td>-0.047099</td>\n",
              "      <td>0.517276</td>\n",
              "      <td>0.019076</td>\n",
              "      <td>-0.001776</td>\n",
              "    </tr>\n",
              "    <tr>\n",
              "      <th>23</th>\n",
              "      <td>0.133344</td>\n",
              "      <td>0.332796</td>\n",
              "      <td>0.117120</td>\n",
              "      <td>0.203244</td>\n",
              "      <td>0.279128</td>\n",
              "      <td>0.283597</td>\n",
              "      <td>0.426655</td>\n",
              "      <td>0.317606</td>\n",
              "      <td>0.220495</td>\n",
              "      <td>0.189678</td>\n",
              "      <td>...</td>\n",
              "      <td>0.329688</td>\n",
              "      <td>0.146522</td>\n",
              "      <td>-0.029415</td>\n",
              "      <td>NaN</td>\n",
              "      <td>0.095627</td>\n",
              "      <td>-0.047853</td>\n",
              "      <td>0.142453</td>\n",
              "      <td>0.578865</td>\n",
              "      <td>0.029079</td>\n",
              "      <td>0.022122</td>\n",
              "    </tr>\n",
              "    <tr>\n",
              "      <th>24</th>\n",
              "      <td>0.127679</td>\n",
              "      <td>0.243256</td>\n",
              "      <td>0.066414</td>\n",
              "      <td>0.148054</td>\n",
              "      <td>0.181848</td>\n",
              "      <td>0.202997</td>\n",
              "      <td>0.331012</td>\n",
              "      <td>0.300644</td>\n",
              "      <td>0.220680</td>\n",
              "      <td>0.195742</td>\n",
              "      <td>...</td>\n",
              "      <td>0.511739</td>\n",
              "      <td>0.305773</td>\n",
              "      <td>-0.132158</td>\n",
              "      <td>NaN</td>\n",
              "      <td>-0.056760</td>\n",
              "      <td>0.052797</td>\n",
              "      <td>0.102003</td>\n",
              "      <td>0.505526</td>\n",
              "      <td>0.179983</td>\n",
              "      <td>0.043764</td>\n",
              "    </tr>\n",
              "    <tr>\n",
              "      <th>25</th>\n",
              "      <td>0.189073</td>\n",
              "      <td>0.323719</td>\n",
              "      <td>0.136933</td>\n",
              "      <td>0.248745</td>\n",
              "      <td>0.268503</td>\n",
              "      <td>0.241889</td>\n",
              "      <td>0.387462</td>\n",
              "      <td>0.404210</td>\n",
              "      <td>0.245016</td>\n",
              "      <td>0.267252</td>\n",
              "      <td>...</td>\n",
              "      <td>0.573026</td>\n",
              "      <td>0.392347</td>\n",
              "      <td>-0.180410</td>\n",
              "      <td>NaN</td>\n",
              "      <td>-0.093662</td>\n",
              "      <td>-0.066109</td>\n",
              "      <td>0.123053</td>\n",
              "      <td>0.637426</td>\n",
              "      <td>0.136270</td>\n",
              "      <td>0.021118</td>\n",
              "    </tr>\n",
              "    <tr>\n",
              "      <th>26</th>\n",
              "      <td>0.160143</td>\n",
              "      <td>0.243818</td>\n",
              "      <td>0.046782</td>\n",
              "      <td>0.167840</td>\n",
              "      <td>0.239294</td>\n",
              "      <td>0.184649</td>\n",
              "      <td>0.310696</td>\n",
              "      <td>0.282126</td>\n",
              "      <td>0.201749</td>\n",
              "      <td>0.231359</td>\n",
              "      <td>...</td>\n",
              "      <td>1.000000</td>\n",
              "      <td>0.407780</td>\n",
              "      <td>-0.047827</td>\n",
              "      <td>NaN</td>\n",
              "      <td>-0.020019</td>\n",
              "      <td>0.045047</td>\n",
              "      <td>0.022279</td>\n",
              "      <td>0.525733</td>\n",
              "      <td>0.039583</td>\n",
              "      <td>0.031922</td>\n",
              "    </tr>\n",
              "    <tr>\n",
              "      <th>27</th>\n",
              "      <td>0.098358</td>\n",
              "      <td>0.158476</td>\n",
              "      <td>0.038424</td>\n",
              "      <td>0.118811</td>\n",
              "      <td>0.176899</td>\n",
              "      <td>0.095900</td>\n",
              "      <td>0.168808</td>\n",
              "      <td>0.240539</td>\n",
              "      <td>0.128098</td>\n",
              "      <td>0.103412</td>\n",
              "      <td>...</td>\n",
              "      <td>0.407780</td>\n",
              "      <td>1.000000</td>\n",
              "      <td>-0.099553</td>\n",
              "      <td>NaN</td>\n",
              "      <td>-0.028793</td>\n",
              "      <td>-0.118996</td>\n",
              "      <td>0.008936</td>\n",
              "      <td>0.343122</td>\n",
              "      <td>0.099829</td>\n",
              "      <td>-0.061188</td>\n",
              "    </tr>\n",
              "    <tr>\n",
              "      <th>МСУ</th>\n",
              "      <td>-0.125101</td>\n",
              "      <td>-0.002830</td>\n",
              "      <td>0.012088</td>\n",
              "      <td>0.069991</td>\n",
              "      <td>-0.006436</td>\n",
              "      <td>-0.088733</td>\n",
              "      <td>-0.018614</td>\n",
              "      <td>-0.186237</td>\n",
              "      <td>0.021967</td>\n",
              "      <td>0.056954</td>\n",
              "      <td>...</td>\n",
              "      <td>-0.047827</td>\n",
              "      <td>-0.099553</td>\n",
              "      <td>1.000000</td>\n",
              "      <td>NaN</td>\n",
              "      <td>0.291807</td>\n",
              "      <td>0.184090</td>\n",
              "      <td>-0.020930</td>\n",
              "      <td>-0.065257</td>\n",
              "      <td>0.090096</td>\n",
              "      <td>0.053086</td>\n",
              "    </tr>\n",
              "    <tr>\n",
              "      <th>Код предмета</th>\n",
              "      <td>NaN</td>\n",
              "      <td>NaN</td>\n",
              "      <td>NaN</td>\n",
              "      <td>NaN</td>\n",
              "      <td>NaN</td>\n",
              "      <td>NaN</td>\n",
              "      <td>NaN</td>\n",
              "      <td>NaN</td>\n",
              "      <td>NaN</td>\n",
              "      <td>NaN</td>\n",
              "      <td>...</td>\n",
              "      <td>NaN</td>\n",
              "      <td>NaN</td>\n",
              "      <td>NaN</td>\n",
              "      <td>NaN</td>\n",
              "      <td>NaN</td>\n",
              "      <td>NaN</td>\n",
              "      <td>NaN</td>\n",
              "      <td>NaN</td>\n",
              "      <td>NaN</td>\n",
              "      <td>NaN</td>\n",
              "    </tr>\n",
              "    <tr>\n",
              "      <th>ППЭ</th>\n",
              "      <td>0.023541</td>\n",
              "      <td>-0.042697</td>\n",
              "      <td>0.046511</td>\n",
              "      <td>0.059869</td>\n",
              "      <td>-0.011270</td>\n",
              "      <td>0.030224</td>\n",
              "      <td>0.065976</td>\n",
              "      <td>-0.014398</td>\n",
              "      <td>0.026676</td>\n",
              "      <td>-0.055820</td>\n",
              "      <td>...</td>\n",
              "      <td>-0.020019</td>\n",
              "      <td>-0.028793</td>\n",
              "      <td>0.291807</td>\n",
              "      <td>NaN</td>\n",
              "      <td>1.000000</td>\n",
              "      <td>-0.008338</td>\n",
              "      <td>0.017006</td>\n",
              "      <td>0.005584</td>\n",
              "      <td>-0.027161</td>\n",
              "      <td>-0.025760</td>\n",
              "    </tr>\n",
              "    <tr>\n",
              "      <th>ОО</th>\n",
              "      <td>-0.029872</td>\n",
              "      <td>0.001954</td>\n",
              "      <td>-0.019951</td>\n",
              "      <td>-0.021378</td>\n",
              "      <td>-0.022651</td>\n",
              "      <td>-0.038051</td>\n",
              "      <td>-0.036469</td>\n",
              "      <td>-0.027483</td>\n",
              "      <td>-0.002952</td>\n",
              "      <td>-0.023494</td>\n",
              "      <td>...</td>\n",
              "      <td>0.045047</td>\n",
              "      <td>-0.118996</td>\n",
              "      <td>0.184090</td>\n",
              "      <td>NaN</td>\n",
              "      <td>-0.008338</td>\n",
              "      <td>1.000000</td>\n",
              "      <td>0.064791</td>\n",
              "      <td>-0.050274</td>\n",
              "      <td>0.047982</td>\n",
              "      <td>0.059244</td>\n",
              "    </tr>\n",
              "    <tr>\n",
              "      <th>Вариант</th>\n",
              "      <td>-0.023696</td>\n",
              "      <td>-0.124290</td>\n",
              "      <td>-0.030339</td>\n",
              "      <td>-0.015079</td>\n",
              "      <td>-0.012419</td>\n",
              "      <td>0.012547</td>\n",
              "      <td>0.061392</td>\n",
              "      <td>0.060092</td>\n",
              "      <td>-0.017908</td>\n",
              "      <td>0.013114</td>\n",
              "      <td>...</td>\n",
              "      <td>0.022279</td>\n",
              "      <td>0.008936</td>\n",
              "      <td>-0.020930</td>\n",
              "      <td>NaN</td>\n",
              "      <td>0.017006</td>\n",
              "      <td>0.064791</td>\n",
              "      <td>1.000000</td>\n",
              "      <td>0.068050</td>\n",
              "      <td>-0.041209</td>\n",
              "      <td>-0.032406</td>\n",
              "    </tr>\n",
              "    <tr>\n",
              "      <th>100.0</th>\n",
              "      <td>0.431301</td>\n",
              "      <td>0.581904</td>\n",
              "      <td>0.297703</td>\n",
              "      <td>0.546109</td>\n",
              "      <td>0.579372</td>\n",
              "      <td>0.550569</td>\n",
              "      <td>0.610873</td>\n",
              "      <td>0.542411</td>\n",
              "      <td>0.439789</td>\n",
              "      <td>0.494458</td>\n",
              "      <td>...</td>\n",
              "      <td>0.525733</td>\n",
              "      <td>0.343122</td>\n",
              "      <td>-0.065257</td>\n",
              "      <td>NaN</td>\n",
              "      <td>0.005584</td>\n",
              "      <td>-0.050274</td>\n",
              "      <td>0.068050</td>\n",
              "      <td>1.000000</td>\n",
              "      <td>0.078306</td>\n",
              "      <td>0.028055</td>\n",
              "    </tr>\n",
              "    <tr>\n",
              "      <th>Аудитория</th>\n",
              "      <td>0.016509</td>\n",
              "      <td>0.075863</td>\n",
              "      <td>-0.025671</td>\n",
              "      <td>0.008856</td>\n",
              "      <td>0.075165</td>\n",
              "      <td>0.008066</td>\n",
              "      <td>0.061728</td>\n",
              "      <td>0.045621</td>\n",
              "      <td>0.050815</td>\n",
              "      <td>-0.010759</td>\n",
              "      <td>...</td>\n",
              "      <td>0.039583</td>\n",
              "      <td>0.099829</td>\n",
              "      <td>0.090096</td>\n",
              "      <td>NaN</td>\n",
              "      <td>-0.027161</td>\n",
              "      <td>0.047982</td>\n",
              "      <td>-0.041209</td>\n",
              "      <td>0.078306</td>\n",
              "      <td>1.000000</td>\n",
              "      <td>0.029522</td>\n",
              "    </tr>\n",
              "    <tr>\n",
              "      <th>Пол</th>\n",
              "      <td>0.046207</td>\n",
              "      <td>0.077104</td>\n",
              "      <td>0.021249</td>\n",
              "      <td>0.006108</td>\n",
              "      <td>0.009917</td>\n",
              "      <td>-0.037081</td>\n",
              "      <td>0.025112</td>\n",
              "      <td>-0.046416</td>\n",
              "      <td>0.099221</td>\n",
              "      <td>0.020234</td>\n",
              "      <td>...</td>\n",
              "      <td>0.031922</td>\n",
              "      <td>-0.061188</td>\n",
              "      <td>0.053086</td>\n",
              "      <td>NaN</td>\n",
              "      <td>-0.025760</td>\n",
              "      <td>0.059244</td>\n",
              "      <td>-0.032406</td>\n",
              "      <td>0.028055</td>\n",
              "      <td>0.029522</td>\n",
              "      <td>1.000000</td>\n",
              "    </tr>\n",
              "  </tbody>\n",
              "</table>\n",
              "<p>35 rows × 35 columns</p>\n",
              "</div>\n",
              "      <button class=\"colab-df-convert\" onclick=\"convertToInteractive('df-d54cbfb6-4d2a-49b2-b3da-b8af5cc36277')\"\n",
              "              title=\"Convert this dataframe to an interactive table.\"\n",
              "              style=\"display:none;\">\n",
              "        \n",
              "  <svg xmlns=\"http://www.w3.org/2000/svg\" height=\"24px\"viewBox=\"0 0 24 24\"\n",
              "       width=\"24px\">\n",
              "    <path d=\"M0 0h24v24H0V0z\" fill=\"none\"/>\n",
              "    <path d=\"M18.56 5.44l.94 2.06.94-2.06 2.06-.94-2.06-.94-.94-2.06-.94 2.06-2.06.94zm-11 1L8.5 8.5l.94-2.06 2.06-.94-2.06-.94L8.5 2.5l-.94 2.06-2.06.94zm10 10l.94 2.06.94-2.06 2.06-.94-2.06-.94-.94-2.06-.94 2.06-2.06.94z\"/><path d=\"M17.41 7.96l-1.37-1.37c-.4-.4-.92-.59-1.43-.59-.52 0-1.04.2-1.43.59L10.3 9.45l-7.72 7.72c-.78.78-.78 2.05 0 2.83L4 21.41c.39.39.9.59 1.41.59.51 0 1.02-.2 1.41-.59l7.78-7.78 2.81-2.81c.8-.78.8-2.07 0-2.86zM5.41 20L4 18.59l7.72-7.72 1.47 1.35L5.41 20z\"/>\n",
              "  </svg>\n",
              "      </button>\n",
              "      \n",
              "  <style>\n",
              "    .colab-df-container {\n",
              "      display:flex;\n",
              "      flex-wrap:wrap;\n",
              "      gap: 12px;\n",
              "    }\n",
              "\n",
              "    .colab-df-convert {\n",
              "      background-color: #E8F0FE;\n",
              "      border: none;\n",
              "      border-radius: 50%;\n",
              "      cursor: pointer;\n",
              "      display: none;\n",
              "      fill: #1967D2;\n",
              "      height: 32px;\n",
              "      padding: 0 0 0 0;\n",
              "      width: 32px;\n",
              "    }\n",
              "\n",
              "    .colab-df-convert:hover {\n",
              "      background-color: #E2EBFA;\n",
              "      box-shadow: 0px 1px 2px rgba(60, 64, 67, 0.3), 0px 1px 3px 1px rgba(60, 64, 67, 0.15);\n",
              "      fill: #174EA6;\n",
              "    }\n",
              "\n",
              "    [theme=dark] .colab-df-convert {\n",
              "      background-color: #3B4455;\n",
              "      fill: #D2E3FC;\n",
              "    }\n",
              "\n",
              "    [theme=dark] .colab-df-convert:hover {\n",
              "      background-color: #434B5C;\n",
              "      box-shadow: 0px 1px 3px 1px rgba(0, 0, 0, 0.15);\n",
              "      filter: drop-shadow(0px 1px 2px rgba(0, 0, 0, 0.3));\n",
              "      fill: #FFFFFF;\n",
              "    }\n",
              "  </style>\n",
              "\n",
              "      <script>\n",
              "        const buttonEl =\n",
              "          document.querySelector('#df-d54cbfb6-4d2a-49b2-b3da-b8af5cc36277 button.colab-df-convert');\n",
              "        buttonEl.style.display =\n",
              "          google.colab.kernel.accessAllowed ? 'block' : 'none';\n",
              "\n",
              "        async function convertToInteractive(key) {\n",
              "          const element = document.querySelector('#df-d54cbfb6-4d2a-49b2-b3da-b8af5cc36277');\n",
              "          const dataTable =\n",
              "            await google.colab.kernel.invokeFunction('convertToInteractive',\n",
              "                                                     [key], {});\n",
              "          if (!dataTable) return;\n",
              "\n",
              "          const docLinkHtml = 'Like what you see? Visit the ' +\n",
              "            '<a target=\"_blank\" href=https://colab.research.google.com/notebooks/data_table.ipynb>data table notebook</a>'\n",
              "            + ' to learn more about interactive tables.';\n",
              "          element.innerHTML = '';\n",
              "          dataTable['output_type'] = 'display_data';\n",
              "          await google.colab.output.renderOutput(dataTable, element);\n",
              "          const docLink = document.createElement('div');\n",
              "          docLink.innerHTML = docLinkHtml;\n",
              "          element.appendChild(docLink);\n",
              "        }\n",
              "      </script>\n",
              "    </div>\n",
              "  </div>\n",
              "  "
            ]
          },
          "metadata": {},
          "execution_count": 140
        }
      ]
    },
    {
      "cell_type": "markdown",
      "source": [
        "### Рассмотрим решаемость всех заданий уровня B"
      ],
      "metadata": {
        "id": "uYRwjE2QqpGk"
      }
    },
    {
      "cell_type": "code",
      "source": [
        "#Успешность всех заданий части B за 21 год\n",
        "success_of_q_graf(df_21_inf,24)"
      ],
      "metadata": {
        "id": "S1mSZt337hWb",
        "colab": {
          "base_uri": "https://localhost:8080/",
          "height": 0
        },
        "outputId": "e168620f-da6f-43f0-ea0b-5068b2b188f8"
      },
      "execution_count": 141,
      "outputs": [
        {
          "output_type": "execute_result",
          "data": {
            "text/plain": [
              "<matplotlib.axes._subplots.AxesSubplot at 0x7f32ce8331d0>"
            ]
          },
          "metadata": {},
          "execution_count": 141
        },
        {
          "output_type": "display_data",
          "data": {
            "text/plain": [
              "<Figure size 432x288 with 1 Axes>"
            ],
            "image/png": "[encoded data removed]"
          },
          "metadata": {
            "needs_background": "light"
          }
        }
      ]
    },
    {
      "cell_type": "code",
      "source": [
        "#Успешность всех заданий части B за 20 год\n",
        "success_of_q_graf(df_20_inf,23)"
      ],
      "metadata": {
        "id": "L4h2mq9v7qy4",
        "colab": {
          "base_uri": "https://localhost:8080/",
          "height": 0
        },
        "outputId": "1b610d56-0922-46d1-ec65-6826e0e95b83"
      },
      "execution_count": 142,
      "outputs": [
        {
          "output_type": "execute_result",
          "data": {
            "text/plain": [
              "<matplotlib.axes._subplots.AxesSubplot at 0x7f32cea1d9d0>"
            ]
          },
          "metadata": {},
          "execution_count": 142
        },
        {
          "output_type": "display_data",
          "data": {
            "text/plain": [
              "<Figure size 432x288 with 1 Axes>"
            ],
            "image/png": "[encoded data removed]"
          },
          "metadata": {
            "needs_background": "light"
          }
        }
      ]
    },
    {
      "cell_type": "code",
      "source": [
        "#Успешность всех заданий части B за 19 год\n",
        "success_of_q_graf(df_19_inf,23)"
      ],
      "metadata": {
        "id": "4MQF2gIf7s-n",
        "colab": {
          "base_uri": "https://localhost:8080/",
          "height": 0
        },
        "outputId": "810e7d8a-89ba-4ce5-b675-bc877f78cd4c"
      },
      "execution_count": 143,
      "outputs": [
        {
          "output_type": "execute_result",
          "data": {
            "text/plain": [
              "<matplotlib.axes._subplots.AxesSubplot at 0x7f32ce9416d0>"
            ]
          },
          "metadata": {},
          "execution_count": 143
        },
        {
          "output_type": "display_data",
          "data": {
            "text/plain": [
              "<Figure size 432x288 with 1 Axes>"
            ],
            "image/png": "[encoded data removed]"
          },
          "metadata": {
            "needs_background": "light"
          }
        }
      ]
    },
    {
      "cell_type": "code",
      "source": [
        "success_of_q_graf_full_common(df_21_inf,df_20_inf,df_19_inf)"
      ],
      "metadata": {
        "id": "fhyWulciWFS7",
        "colab": {
          "base_uri": "https://localhost:8080/",
          "height": 0
        },
        "outputId": "53fed1a5-d1e4-42f0-847c-7867153eec0f"
      },
      "execution_count": 144,
      "outputs": [
        {
          "output_type": "stream",
          "name": "stdout",
          "text": [
            "15\n",
            "0\n"
          ]
        },
        {
          "output_type": "display_data",
          "data": {
            "text/plain": [
              "<Figure size 1152x576 with 1 Axes>"
            ],
            "image/png": "[encoded data removed]"
          },
          "metadata": {
            "needs_background": "light"
          }
        },
        {
          "output_type": "display_data",
          "data": {
            "text/plain": [
              "<Figure size 432x288 with 0 Axes>"
            ]
          },
          "metadata": {}
        }
      ]
    },
    {
      "cell_type": "markdown",
      "source": [
        "#### Рассмотрим самые сложные задания отдельно"
      ],
      "metadata": {
        "id": "wIiwNByt6CWU"
      }
    },
    {
      "cell_type": "code",
      "source": [
        "hard_q_graf(df_21_inf,24)"
      ],
      "metadata": {
        "id": "73iXAR-F9iUN",
        "colab": {
          "base_uri": "https://localhost:8080/",
          "height": 0
        },
        "outputId": "e97daf1a-47bd-4894-9476-a4120a5eae6d"
      },
      "execution_count": 145,
      "outputs": [
        {
          "output_type": "display_data",
          "data": {
            "text/plain": [
              "<Figure size 1152x216 with 1 Axes>"
            ],
            "image/png": "[encoded data removed]"
          },
          "metadata": {
            "needs_background": "light"
          }
        }
      ]
    },
    {
      "cell_type": "code",
      "source": [
        "hard_q_graf(df_20_inf,23)"
      ],
      "metadata": {
        "id": "o4_xd5s19m-4",
        "colab": {
          "base_uri": "https://localhost:8080/",
          "height": 0
        },
        "outputId": "e70d7ef7-726f-4d86-ccd5-40eab8b141bc"
      },
      "execution_count": 146,
      "outputs": [
        {
          "output_type": "display_data",
          "data": {
            "text/plain": [
              "<Figure size 1152x216 with 1 Axes>"
            ],
            "image/png": "[encoded data removed]"
          },
          "metadata": {
            "needs_background": "light"
          }
        }
      ]
    },
    {
      "cell_type": "code",
      "source": [
        "hard_q_graf(df_19_inf,23)"
      ],
      "metadata": {
        "id": "3imY-DoD9mzw",
        "colab": {
          "base_uri": "https://localhost:8080/",
          "height": 0
        },
        "outputId": "6a451898-0c9e-43d9-c9a1-6ec32e819522"
      },
      "execution_count": 147,
      "outputs": [
        {
          "output_type": "display_data",
          "data": {
            "text/plain": [
              "<Figure size 1152x216 with 1 Axes>"
            ],
            "image/png": "[encoded data removed]"
          },
          "metadata": {
            "needs_background": "light"
          }
        }
      ]
    },
    {
      "cell_type": "markdown",
      "source": [
        "#### Выделим темы, на которых дети чаще всего ошибались\n",
        "\n",
        "---\n",
        "21:\n",
        "\n",
        "8 -Знание о методах измерения количества информации\n",
        "\n",
        "11 - Умение подсчитывать информационный объём сообщения\n",
        "\n",
        "14 - Знание позиционных систем\n",
        "счисления\n",
        "\n",
        "15 - Знание основных понятий и законов математической логики\n",
        "\n",
        "18 - Умение обрабатывать вещественные выражения в электронных таблицах\n",
        "\n",
        "21 - Умение построить дерево игры\n",
        "по заданному алгоритму и найти\n",
        "выигрышную стратегию\n",
        "\n",
        "23 - Умение анализировать результат\n",
        "исполнения алгоритма\n",
        "\n",
        "24 - Умение создавать собственные\n",
        "программы (10–20 строк) для обработки символьной информации\n",
        "\n",
        "\n",
        "---\n",
        "\n",
        "\n",
        "20:\n",
        "\n",
        "10 - Знание о методах измерения количества информации\n",
        "\n",
        "14 - Умение исполнить алгоритм для конкретного исполнителя с фиксированным набором команд\n",
        "\n",
        "16 - Знание позиционных систем счисления\n",
        "\n",
        "18 - Знание основных понятий и законов\n",
        "математической логики \n",
        "\n",
        "19 - Работа с массивами (заполнение, считывание, поиск, сортировка, массовые\n",
        "операции и др.) \n",
        "\n",
        "20 -Анализ алгоритма, содержащего цикл и\n",
        "ветвление\n",
        "\n",
        "21 - Умение анализировать программу, использующую процедуры и функции\n",
        "\n",
        "22 - Умение анализировать результат исполнения алгоритма\n",
        "\n",
        "23 - Умение строить и преобразовывать логические выражения\n",
        "\n",
        "\n",
        "---\n",
        "\n",
        "\n",
        "\n",
        "19:\n",
        "\n",
        "6 - Формальное исполнение алгоритма, записанного на естественном языке или\n",
        "умение создавать линейный алгоритм\n",
        "для формального исполнителя\n",
        "с ограниченным набором команд\n",
        "\n",
        "10 - Знание о методах измерения количества информации\n",
        "\n",
        "11 - Умение исполнить рекурсивный алгоритм\n",
        "\n",
        "12 - Знание базовых принципов организации и функционирования компьютерных сетей, адресации в сети\n",
        "\n",
        "14 - Умение исполнить алгоритм для конкретного исполнителя с фиксированным набором команд\n",
        "\n",
        "18 - Знание основных понятий и законов\n",
        "математической логики\n",
        "\n",
        "19 -Работа с массивами (заполнение, считывание, поиск, сортировка, массовые\n",
        "операции и др.) \n",
        "\n",
        "20 - Анализ алгоритма, содержащего цикл и\n",
        "ветвление\n",
        "\n",
        "\n",
        "21 - Умение анализировать программу, использующую процедуры и функции\n",
        "\n",
        "22 - Умение анализировать результат исполнения алгоритма\n",
        "\n",
        "23 -Умение строить и преобразовывать логические выражения\n",
        "\n"
      ],
      "metadata": {
        "id": "FlmTY_Hq_7Bd"
      }
    },
    {
      "cell_type": "markdown",
      "source": [
        "### Рассмотрим решаемость всех заданий уровня С\n"
      ],
      "metadata": {
        "id": "h6PKy4n2IMZk"
      }
    },
    {
      "cell_type": "code",
      "source": [
        "success_of_q_graf_c(df_21_inf,25)\n"
      ],
      "metadata": {
        "id": "yFSR8QJGJGC0",
        "colab": {
          "base_uri": "https://localhost:8080/",
          "height": 0
        },
        "outputId": "917004e4-04ce-4a56-dc94-4888dfefcbe5"
      },
      "execution_count": 148,
      "outputs": [
        {
          "output_type": "display_data",
          "data": {
            "text/plain": [
              "<Figure size 1152x216 with 1 Axes>"
            ],
            "image/png": "[encoded data removed]"
          },
          "metadata": {
            "needs_background": "light"
          }
        }
      ]
    },
    {
      "cell_type": "code",
      "source": [
        "success_of_q_graf_c(df_20_inf,24)"
      ],
      "metadata": {
        "id": "-lZSHUo5JT56",
        "colab": {
          "base_uri": "https://localhost:8080/",
          "height": 0
        },
        "outputId": "45eacd0c-2275-4e9d-bbd7-9b5f4d95c41a"
      },
      "execution_count": 149,
      "outputs": [
        {
          "output_type": "display_data",
          "data": {
            "text/plain": [
              "<Figure size 1152x216 with 1 Axes>"
            ],
            "image/png": "[encoded data removed]"
          },
          "metadata": {
            "needs_background": "light"
          }
        }
      ]
    },
    {
      "cell_type": "code",
      "source": [
        "success_of_q_graf_c(df_19_inf,24)"
      ],
      "metadata": {
        "id": "sirMh7YdJTw_",
        "colab": {
          "base_uri": "https://localhost:8080/",
          "height": 0
        },
        "outputId": "ca37e549-9bf0-4437-a3fa-49d16d17b12f"
      },
      "execution_count": 150,
      "outputs": [
        {
          "output_type": "display_data",
          "data": {
            "text/plain": [
              "<Figure size 1152x216 with 1 Axes>"
            ],
            "image/png": "[encoded data removed]"
          },
          "metadata": {
            "needs_background": "light"
          }
        }
      ]
    },
    {
      "cell_type": "markdown",
      "source": [
        "#### Как мы видим, успешность выполнения заданий части С в 21 году упала почти в два раза по сравнению с 20 и 19 годами, хотя и количество задач в частях уменьшился, давайте взглянем на темы:"
      ],
      "metadata": {
        "id": "uKOk-LDGFXDq"
      }
    },
    {
      "cell_type": "markdown",
      "source": [
        "21 год:\n",
        "\n",
        "25 - Умение создавать собственные\n",
        "программы (10–20 строк) для обработки целочисленной информации\n",
        "\n",
        "26 -Умение обрабатывать целочисленную информацию с использованием сортировки\n",
        "\n",
        "27 - Умение создавать собственные\n",
        "программы (20–40 строк) для\n",
        "анализа числовых последовательностей\n",
        "\n",
        "---\n",
        "20 год:\n",
        "\n",
        "24 - Умение прочесть фрагмент программы\n",
        "на языке программирования и исправить допущенные ошибки\n",
        "\n",
        "25 - Умение составить алгоритм и записать\n",
        "его в виде простой программы (10–15\n",
        "строк) на языке программирования\n",
        "\n",
        "26 - Умение построить дерево игры по заданному алгоритму и обосновать выигрышную стратегию\n",
        "\n",
        "27 - Умение создавать собственные программы (30–50 строк) для решения задач средней сложности\n",
        "\n",
        "\n",
        "---\n",
        "\n",
        "19 год:\n",
        "\n",
        "24 - Умение прочесть фрагмент программы\n",
        "на языке программирования и исправить допущенные ошибки\n",
        "\n",
        "25 - Умение составить алгоритм и записать\n",
        "его в виде простой программы (10–15\n",
        "строк) на языке программирования\n",
        "\n",
        "26 - Умение построить дерево игры по заданному алгоритму и обосновать выигрышную стратегию\n",
        "\n",
        "27 - Умение создавать собственные программы (30–50 строк) для решения задач средней сложности\n",
        "\n",
        "\n",
        "\n"
      ],
      "metadata": {
        "id": "7PhL-4GNKwOB"
      }
    },
    {
      "cell_type": "markdown",
      "source": [
        "#### И если в 2021 году содержание 24 и 26 задания именились, по сравнению с 2020 и 2019 годами, то номер  25 остался таким же, а номер 27, наоборот, стал проще. "
      ],
      "metadata": {
        "id": "ecANQjR_H9Qw"
      }
    },
    {
      "cell_type": "markdown",
      "source": [
        "## Рассмотрим бальные показатели за все года:"
      ],
      "metadata": {
        "id": "LH-6PARBMAhb"
      }
    },
    {
      "cell_type": "markdown",
      "source": [
        "### Отсортируем наши данные по районам:"
      ],
      "metadata": {
        "id": "FAy19p4vMOZ-"
      }
    },
    {
      "cell_type": "code",
      "source": [
        "df_21_inf['Район'].value_counts()"
      ],
      "metadata": {
        "id": "owMP4njEB8aR",
        "colab": {
          "base_uri": "https://localhost:8080/"
        },
        "outputId": "08581c5e-60e8-4df0-8bd3-fdd911ffbdca"
      },
      "execution_count": 151,
      "outputs": [
        {
          "output_type": "execute_result",
          "data": {
            "text/plain": [
              "г. Владикавказ            190\n",
              "Моздокский район           30\n",
              "Правобережный район        26\n",
              "Выпускники прошлых лет     17\n",
              "Негосудрственные ОО        12\n",
              "Пригородный район          10\n",
              "Кировский район             8\n",
              "ОО  СПО                     7\n",
              "Алагирский район            6\n",
              "Ардонский район             5\n",
              "Ирафский район              2\n",
              "ОУ РЮО                      1\n",
              "Вузы                        1\n",
              "Name: Район, dtype: int64"
            ]
          },
          "metadata": {},
          "execution_count": 151
        }
      ]
    },
    {
      "cell_type": "code",
      "source": [
        "df_20_inf['Район'].value_counts()"
      ],
      "metadata": {
        "id": "k1ilpKlFB8xe",
        "colab": {
          "base_uri": "https://localhost:8080/"
        },
        "outputId": "2245c25b-2c4a-41bf-e74d-36ee95061b12"
      },
      "execution_count": 152,
      "outputs": [
        {
          "output_type": "execute_result",
          "data": {
            "text/plain": [
              "г. Владикавказ            185\n",
              "Моздокский район           50\n",
              "Правобережный район        19\n",
              "Пригородный район          19\n",
              "Выпускники прошлых лет     15\n",
              "Алагирский район            9\n",
              "Ардонский район             8\n",
              "Дигорский район             4\n",
              "ОО  СПО                     4\n",
              "Ирафский район              3\n",
              "Негосудрственные ОО         3\n",
              "Кировский район             1\n",
              "Name: Район, dtype: int64"
            ]
          },
          "metadata": {},
          "execution_count": 152
        }
      ]
    },
    {
      "cell_type": "code",
      "source": [
        "df_19_inf['Регион'].value_counts()"
      ],
      "metadata": {
        "id": "-KynXeq_B9IN",
        "colab": {
          "base_uri": "https://localhost:8080/"
        },
        "outputId": "327f06ac-23d2-44d8-e19a-6c86bc49b8e9"
      },
      "execution_count": 153,
      "outputs": [
        {
          "output_type": "execute_result",
          "data": {
            "text/plain": [
              "г. Владикавказ            149\n",
              "Моздокский район           45\n",
              "Выпускники прошлых лет     25\n",
              "Правобережный район        22\n",
              "Пригородный район          19\n",
              "Ардонский район             6\n",
              "Негосудрственные ОО         6\n",
              "ОО  СПО                     4\n",
              "Дигорский район             3\n",
              "Кировский район             3\n",
              "Ирафский район              3\n",
              "ОУ РЮО                      1\n",
              "Name: Регион, dtype: int64"
            ]
          },
          "metadata": {},
          "execution_count": 153
        }
      ]
    },
    {
      "cell_type": "markdown",
      "source": [
        "#### Рассмотрим изменения количества участников по разным годам"
      ],
      "metadata": {
        "id": "cyBf9sBT_AZ0"
      }
    },
    {
      "cell_type": "code",
      "source": [
        "df_21_inf['Район'].value_counts() - df_20_inf['Район'].value_counts() "
      ],
      "metadata": {
        "id": "4JT1LV_vRYfK",
        "colab": {
          "base_uri": "https://localhost:8080/"
        },
        "outputId": "ba3ed88d-d82b-47e6-f8ba-6de87c2ec240"
      },
      "execution_count": 154,
      "outputs": [
        {
          "output_type": "execute_result",
          "data": {
            "text/plain": [
              "Алагирский район          -3.0\n",
              "Ардонский район           -3.0\n",
              "Вузы                       NaN\n",
              "Выпускники прошлых лет     2.0\n",
              "Дигорский район            NaN\n",
              "Ирафский район            -1.0\n",
              "Кировский район            7.0\n",
              "Моздокский район         -20.0\n",
              "Негосудрственные ОО        9.0\n",
              "ОО  СПО                    3.0\n",
              "ОУ РЮО                     NaN\n",
              "Правобережный район        7.0\n",
              "Пригородный район         -9.0\n",
              "г. Владикавказ             5.0\n",
              "Name: Район, dtype: float64"
            ]
          },
          "metadata": {},
          "execution_count": 154
        }
      ]
    },
    {
      "cell_type": "code",
      "source": [
        "df_20_inf['Район'].value_counts() - df_19_inf['Регион'].value_counts()"
      ],
      "metadata": {
        "id": "6a9becr4-KxR",
        "colab": {
          "base_uri": "https://localhost:8080/"
        },
        "outputId": "c6c366bb-7358-45ec-c2f4-fd9dd0f63b0a"
      },
      "execution_count": 155,
      "outputs": [
        {
          "output_type": "execute_result",
          "data": {
            "text/plain": [
              "Алагирский район           NaN\n",
              "Ардонский район            2.0\n",
              "Выпускники прошлых лет   -10.0\n",
              "Дигорский район            1.0\n",
              "Ирафский район             0.0\n",
              "Кировский район           -2.0\n",
              "Моздокский район           5.0\n",
              "Негосудрственные ОО       -3.0\n",
              "ОО  СПО                    0.0\n",
              "ОУ РЮО                     NaN\n",
              "Правобережный район       -3.0\n",
              "Пригородный район          0.0\n",
              "г. Владикавказ            36.0\n",
              "dtype: float64"
            ]
          },
          "metadata": {},
          "execution_count": 155
        }
      ]
    },
    {
      "cell_type": "markdown",
      "source": [
        "С 19 на 20 год\n",
        "1.  г. Владикавказ :  +36  = 185 человек\n",
        "2.  Алагирский район :  -9  = 9 человек\n",
        "3.  Ардонский район :  +2 = 8 человек\n",
        "4.  Дигорский район :  +1 = 4 человекa\n",
        "5.  Ирафский район :  0 = 3 человекa\n",
        "6.  Кировский район : -2 = 1 человек\n",
        "7.  Моздокский район :  +5  = 50 человек\n",
        "8.  Правобережный район :  -3 = 19 человек\n",
        "9.  Пригородный район :  0 = 19 человек\n",
        "\n",
        "\n",
        "---\n",
        "\n",
        "\n",
        "С 20 на 21 год \n",
        "1.  г. Владикавказ :  +5  = 190 человек\n",
        "2.  Алагирский район :  -3  = 6 человек\n",
        "3.  Ардонский район :  -3 = 5 человек\n",
        "4.  Дигорский район :  -4 = 0 человек\n",
        "5.  Ирафский район :  -1 = 2 человекa\n",
        "6.  Кировский район : +7 = 8 человек\n",
        "7.  Моздокский район :  -20  = 30 человек\n",
        "8.  Правобережный район :  +7 = 26 человек\n",
        "9.  Пригородный район :  -9 = 10 человек\n",
        "\n",
        "\n",
        "---\n",
        "\n",
        "\n",
        "Общее число учеников:\n",
        "\n",
        "19 год = 286\n",
        "\n",
        "20 год = 320\n",
        "\n",
        "21 год = 315\n",
        "\n"
      ],
      "metadata": {
        "id": "4DVKMLI7AVLa"
      }
    },
    {
      "cell_type": "markdown",
      "source": [
        "Т.к количество учеников в разных Районах в разные годы может быть очень маленьким, разделим их на 3 Зоны: Владикавказ, Моздок, и все остальное"
      ],
      "metadata": {
        "id": "t57iEPrBJc4K"
      }
    },
    {
      "cell_type": "code",
      "source": [
        "take_region_guys(df_21_inf,'Район')"
      ],
      "metadata": {
        "id": "AQiEYEdnTw2b",
        "colab": {
          "base_uri": "https://localhost:8080/",
          "height": 0
        },
        "outputId": "23aac1d6-50ba-4da1-85f2-e61a4310ead4"
      },
      "execution_count": 156,
      "outputs": [
        {
          "output_type": "stream",
          "name": "stderr",
          "text": [
            "/usr/local/lib/python3.7/dist-packages/ipykernel_launcher.py:12: SettingWithCopyWarning: \n",
            "A value is trying to be set on a copy of a slice from a DataFrame.\n",
            "Try using .loc[row_indexer,col_indexer] = value instead\n",
            "\n",
            "See the caveats in the documentation: https://pandas.pydata.org/pandas-docs/stable/user_guide/indexing.html#returning-a-view-versus-a-copy\n",
            "  if sys.path[0] == '':\n"
          ]
        },
        {
          "output_type": "stream",
          "name": "stdout",
          "text": [
            "MEDIAN\n",
            "г. Владикавказ: 61.5\n",
            "Моздокский Район: 58.0\n",
            "Все остальные районы: 53.0 \n",
            "\n",
            "MAX\n",
            "г. Владикавказ: 98.0\n",
            "Моздокский Район: 88.0\n",
            "Все остальные районы: 90.0 \n",
            "\n",
            "MIN\n",
            "г. Владикавказ: 0.0\n",
            "Моздокский Район: 0.0\n",
            "Все остальные районы: 0.0\n"
          ]
        },
        {
          "output_type": "display_data",
          "data": {
            "text/plain": [
              "<Figure size 2160x576 with 1 Axes>"
            ],
            "image/png": "[encoded data removed]"
          },
          "metadata": {
            "needs_background": "light"
          }
        },
        {
          "output_type": "display_data",
          "data": {
            "text/plain": [
              "<Figure size 432x288 with 1 Axes>"
            ],
            "image/png": "[encoded data removed]"
          },
          "metadata": {
            "needs_background": "light"
          }
        }
      ]
    },
    {
      "cell_type": "code",
      "source": [
        "take_region_guys(df_20_inf,'Район')"
      ],
      "metadata": {
        "id": "0AJEck-VTxc9",
        "colab": {
          "base_uri": "https://localhost:8080/",
          "height": 0
        },
        "outputId": "d3734b60-aae8-4c32-b319-e7c55a7955b9"
      },
      "execution_count": 157,
      "outputs": [
        {
          "output_type": "stream",
          "name": "stderr",
          "text": [
            "/usr/local/lib/python3.7/dist-packages/ipykernel_launcher.py:12: SettingWithCopyWarning: \n",
            "A value is trying to be set on a copy of a slice from a DataFrame.\n",
            "Try using .loc[row_indexer,col_indexer] = value instead\n",
            "\n",
            "See the caveats in the documentation: https://pandas.pydata.org/pandas-docs/stable/user_guide/indexing.html#returning-a-view-versus-a-copy\n",
            "  if sys.path[0] == '':\n"
          ]
        },
        {
          "output_type": "stream",
          "name": "stdout",
          "text": [
            "MEDIAN\n",
            "г. Владикавказ: 55.0\n",
            "Моздокский Район: 60.0\n",
            "Все остальные районы: 42.0 \n",
            "\n",
            "MAX\n",
            "г. Владикавказ: 100.0\n",
            "Моздокский Район: 92.0\n",
            "Все остальные районы: 100.0 \n",
            "\n",
            "MIN\n",
            "г. Владикавказ: 0.0\n",
            "Моздокский Район: 7.0\n",
            "Все остальные районы: 0.0\n"
          ]
        },
        {
          "output_type": "display_data",
          "data": {
            "text/plain": [
              "<Figure size 2160x576 with 1 Axes>"
            ],
            "image/png": "[encoded data removed]"
          },
          "metadata": {
            "needs_background": "light"
          }
        },
        {
          "output_type": "display_data",
          "data": {
            "text/plain": [
              "<Figure size 432x288 with 1 Axes>"
            ],
            "image/png": "[encoded data removed]"
          },
          "metadata": {
            "needs_background": "light"
          }
        }
      ]
    },
    {
      "cell_type": "code",
      "source": [
        "take_region_guys(df_19_inf,'Регион')"
      ],
      "metadata": {
        "id": "eZKSQT8PJcrX",
        "colab": {
          "base_uri": "https://localhost:8080/",
          "height": 0
        },
        "outputId": "d33536b5-7072-456f-9168-1c29b32e7589"
      },
      "execution_count": 158,
      "outputs": [
        {
          "output_type": "stream",
          "name": "stderr",
          "text": [
            "/usr/local/lib/python3.7/dist-packages/ipykernel_launcher.py:12: SettingWithCopyWarning: \n",
            "A value is trying to be set on a copy of a slice from a DataFrame.\n",
            "Try using .loc[row_indexer,col_indexer] = value instead\n",
            "\n",
            "See the caveats in the documentation: https://pandas.pydata.org/pandas-docs/stable/user_guide/indexing.html#returning-a-view-versus-a-copy\n",
            "  if sys.path[0] == '':\n"
          ]
        },
        {
          "output_type": "stream",
          "name": "stdout",
          "text": [
            "MEDIAN\n",
            "г. Владикавказ: 59.0\n",
            "Моздокский Район: 51.0\n",
            "Все остальные районы: 47.0 \n",
            "\n",
            "MAX\n",
            "г. Владикавказ: 100.0\n",
            "Моздокский Район: 88.0\n",
            "Все остальные районы: 81.0 \n",
            "\n",
            "MIN\n",
            "г. Владикавказ: 0.0\n",
            "Моздокский Район: 0.0\n",
            "Все остальные районы: 0.0\n"
          ]
        },
        {
          "output_type": "display_data",
          "data": {
            "text/plain": [
              "<Figure size 2160x576 with 1 Axes>"
            ],
            "image/png": "[encoded data removed]"
          },
          "metadata": {
            "needs_background": "light"
          }
        },
        {
          "output_type": "display_data",
          "data": {
            "text/plain": [
              "<Figure size 432x288 with 1 Axes>"
            ],
            "image/png": "[encoded data removed]"
          },
          "metadata": {
            "needs_background": "light"
          }
        }
      ]
    },
    {
      "cell_type": "markdown",
      "source": [
        "### Отсортируем наши данные по Школам:"
      ],
      "metadata": {
        "id": "dbG4XAFbMJlu"
      }
    },
    {
      "cell_type": "markdown",
      "source": [
        "Сравним средние и медианные баллы за последние три года"
      ],
      "metadata": {
        "id": "nZDyhMgLpjEz"
      }
    },
    {
      "cell_type": "code",
      "source": [
        "print(df_19_inf[100.0].median())\n",
        "print(df_20_inf[100.0].median())\n",
        "print(df_21_inf[100.0].median())\n",
        "\n",
        "\n",
        "print(df_19_inf[100.0].mean())\n",
        "print(df_20_inf[100.0].mean())\n",
        "print(df_21_inf[100.0].mean())\n"
      ],
      "metadata": {
        "id": "cuhvw0ERpnH2",
        "colab": {
          "base_uri": "https://localhost:8080/"
        },
        "outputId": "c5b409d7-666e-490e-8ab7-b042d03497f0"
      },
      "execution_count": 159,
      "outputs": [
        {
          "output_type": "stream",
          "name": "stdout",
          "text": [
            "53.0\n",
            "53.0\n",
            "58.0\n",
            "53.58741258741259\n",
            "52.215625\n",
            "57.33968253968254\n"
          ]
        }
      ]
    },
    {
      "cell_type": "markdown",
      "source": [
        "Из за малого количества данных пойдем на хитрость и будем рассматривать только школьников среди школ, ученики которых регулярно учавствуют в экзамене\n"
      ],
      "metadata": {
        "id": "PcFCMImun5SL"
      }
    },
    {
      "cell_type": "markdown",
      "source": [
        "Данные по кличеству сдававших экзамен школьников"
      ],
      "metadata": {
        "id": "kUZ-SsROhLrq"
      }
    },
    {
      "cell_type": "code",
      "source": [
        "how_much_sch(df_21_inf,df_20_inf,df_19_inf)"
      ],
      "metadata": {
        "id": "ZrdNO_VEYp3F",
        "colab": {
          "base_uri": "https://localhost:8080/"
        },
        "outputId": "bebca795-dbaa-4caa-9c47-d0bd279fb156"
      },
      "execution_count": 160,
      "outputs": [
        {
          "output_type": "stream",
          "name": "stdout",
          "text": [
            "                          19    20    21  delta_year\n",
            "г. Владикавказа           20  10.0  11.0         1.0\n",
            "ГБОШИ РФМЛИ               18   5.0  23.0        18.0\n",
            "МБОУ лицей г.Владикавказ  13  10.0  10.0         0.0\n",
            "МБОУ СОШ №8 г.Моздок      12  13.0   5.0        -8.0\n",
            "МБОУ гимназия №5          10  10.0  17.0         7.0\n",
            "                                                    19    20    21  delta_year\n",
            "г. Владикавказа                                     20  10.0  11.0         1.0\n",
            "ГБОШИ РФМЛИ                                         18   5.0  23.0        18.0\n",
            "МБОУ лицей г.Владикавказ                            13  10.0  10.0         0.0\n",
            "МБОУ СОШ №8 г.Моздок                                12  13.0   5.0        -8.0\n",
            "МБОУ гимназия №5                                    10  10.0  17.0         7.0\n",
            "ГБОУ СОШ №8 г.Беслан                                 8   4.0   7.0         3.0\n",
            "МАОУ БСОШ №7 с угл. изуч. англ. языка                8   5.0   6.0         1.0\n",
            "МБОУ СОШ №30                                         8   5.0   4.0        -1.0\n",
            "МБОУ СОШ №28                                         8   2.0   1.0        -1.0\n",
            "МБОУ СОШ №38                                         7  15.0  14.0        -1.0\n",
            "МБОУ СОШ с.Троицкое                                  7   1.0   2.0         1.0\n",
            "МБОУ СОШ №3                                          5   2.0   5.0         3.0\n",
            "МБОУ ВСОШ №2                                         5   2.0   1.0        -1.0\n",
            "МБОУ СОШ №46                                         5   6.0  10.0         4.0\n",
            "МБОУ СОШ №3 г.Моздок                                 5   8.0   2.0        -6.0\n",
            "ГБОУ «Гимназия «Диалог»                              5   4.0   1.0        -3.0\n",
            "МБОУ СОШ №108 г.Моздок                               4   4.0   6.0         2.0\n",
            "МБОУ СОШ №41                                         4   3.0   4.0         1.0\n",
            "МБОУ СОМШ №44                                        4   5.0   6.0         1.0\n",
            "ГБОУ СОШ г.Беслан                                    4   2.0  12.0        10.0\n",
            "МБОУ СОШ №22                                         4   8.0   9.0         1.0\n",
            "МБОУ СОШ с.Михайловское                              4   3.0   4.0         1.0\n",
            "Пригородного района                                  3   1.0   1.0         0.0\n",
            "МБОУ СОШ №26                                         3   6.0   2.0        -4.0\n",
            "МБОУ СОШ №42                                         3  11.0  10.0        -1.0\n",
            "МБОУ СОШ №1 г.Ардон                                  3   4.0   4.0         0.0\n",
            "ГБОУ СОШ № 47                                        3   3.0   5.0         2.0\n",
            "МБОУ СОШ №43                                         3   4.0   1.0        -3.0\n",
            "МБОУ СОШ №1 г.Моздок с угл. изуч. англ. языка        3  10.0   2.0        -8.0\n",
            "МБОУ СОШ №36                                         2   7.0   2.0        -5.0\n",
            "МБОУ СОШ №48                                         2   1.0   6.0         5.0\n",
            "МБОУ СОШ №2 г.Моздок                                 2   6.0   5.0        -1.0\n",
            "ЧОУ ВНСОШ                                            2   2.0   8.0         6.0\n",
            "МБОУ СОШ №27                                         2   7.0   6.0        -1.0\n",
            "МКОУ СОШ №6 г.Беслан                                 2   4.0   4.0         0.0\n",
            "ГБОУ СОШ с углубленным изучением художественно ...   2   2.0   1.0        -1.0\n",
            "МБОУ СОШ №25                                         2   7.0   1.0        -6.0\n",
            "ЧОУ  ВГЛ                                             2   1.0   1.0         0.0\n",
            "МБОУ СОШ №14                                         2   3.0   3.0         0.0\n",
            "МБОУ СОШ ст.Терская                                  2   1.0   3.0         2.0\n",
            "МБОУ СОШ №1 с.Камбилеевское                          1   2.0   2.0         0.0\n",
            "МБОУ СОШ ст.Луковская                                1   6.0   2.0        -4.0\n",
            "МБОУ СОШ с.Ир                                        1   3.0   1.0        -2.0\n",
            "МБОУ гимназия №4                                     1   3.0   2.0        -1.0\n",
            "МБОУ СОШ №34                                         1   1.0   1.0         0.0\n",
            "МБОУ СОШ №2 ст.Архонская                             1   1.0   1.0         0.0\n",
            "МБОУ СОШ №11 с угл. изуч. англ. языка                1   7.0   3.0        -4.0\n",
            "МБОУ гимназия №45                                    1   5.0   5.0         0.0\n",
            "ФГКОУ СКСВУ                                          1   3.0   5.0         2.0\n"
          ]
        }
      ]
    },
    {
      "cell_type": "markdown",
      "source": [
        "Данные по медианному значению баллов по каждой из школ"
      ],
      "metadata": {
        "id": "uCBRqVNpkncB"
      }
    },
    {
      "cell_type": "code",
      "source": [
        "median_of_b(df_21_inf,df_20_inf,df_19_inf)"
      ],
      "metadata": {
        "id": "QxZE8G9jJT1D",
        "colab": {
          "base_uri": "https://localhost:8080/"
        },
        "outputId": "9eb43cff-6993-4934-96ad-e7675a676590"
      },
      "execution_count": 161,
      "outputs": [
        {
          "output_type": "stream",
          "name": "stdout",
          "text": [
            "year                                                  19    20    21   Рост\n",
            "Кратое название  ОУ                                                        \n",
            "ГБОУ «Гимназия «Диалог»                             50.0  60.0  63.0   True\n",
            "ГБОУ СОШ г.Беслан                                   43.0  54.0  50.0  False\n",
            "ГБОУ СОШ с углубленным изучением художественно ...  37.5  67.0  60.0  False\n",
            "ГБОУ СОШ № 47                                       77.0  55.0  78.0   True\n",
            "ГБОУ СОШ №8 г.Беслан                                46.0  10.5  50.0   True\n",
            "ГБОШИ РФМЛИ                                         64.5  62.0  78.0   True\n",
            "МАОУ БСОШ №7 с угл. изуч. англ. языка               59.0  70.0  65.5  False\n",
            "МБОУ ВСОШ №2                                        20.0  36.5  48.0   True\n",
            "МБОУ СОМШ №44                                       80.0  61.0  47.5  False\n",
            "МБОУ СОШ с.Ир                                       57.0  42.0  68.0   True\n",
            "МБОУ СОШ с.Михайловское                             47.0  34.0  55.5   True\n",
            "МБОУ СОШ с.Троицкое                                 46.0  40.0  47.0   True\n",
            "МБОУ СОШ ст.Луковская                               73.0  50.5  58.0   True\n",
            "МБОУ СОШ ст.Терская                                 64.0  53.0  55.0   True\n",
            "МБОУ СОШ №1 г.Ардон                                 55.0  52.0  71.5   True\n",
            "МБОУ СОШ №1 г.Моздок с угл. изуч. англ. языка       48.0  69.5  72.5   True\n",
            "МБОУ СОШ №1 с.Камбилеевское                          7.0  20.5  53.0   True\n",
            "МБОУ СОШ №108 г.Моздок                              44.5  58.5  70.0   True\n",
            "МБОУ СОШ №11 с угл. изуч. англ. языка               48.0  61.0  48.0  False\n",
            "МБОУ СОШ №14                                        63.0  70.0  40.0  False\n",
            "МБОУ СОШ №2 г.Моздок                                66.0  60.0  48.0  False\n",
            "МБОУ СОШ №2 ст.Архонская                            14.0  62.0  45.0  False\n",
            "МБОУ СОШ №22                                        45.0  52.0  75.0   True\n",
            "МБОУ СОШ №25                                        58.5  44.0  43.0  False\n",
            "МБОУ СОШ №26                                        59.0  48.0  55.5   True\n",
            "МБОУ СОШ №27                                        49.0  42.0  83.0   True\n",
            "МБОУ СОШ №28                                        53.0  59.5  88.0   True\n",
            "МБОУ СОШ №3                                         59.0  56.0  34.0  False\n",
            "МБОУ СОШ №3 г.Моздок                                57.0  44.0  77.5   True\n",
            "МБОУ СОШ №30                                        74.5  64.0  70.5   True\n",
            "МБОУ СОШ №34                                        81.0  53.0  73.0   True\n",
            "МБОУ СОШ №36                                        45.5  42.0  54.0   True\n",
            "МБОУ СОШ №38                                        72.0  66.0  59.0  False\n",
            "МБОУ СОШ №41                                        57.0  62.0  55.5  False\n",
            "МБОУ СОШ №42                                        46.0  50.0  51.5   True\n",
            "МБОУ СОШ №43                                        59.0  49.5  48.0  False\n",
            "МБОУ СОШ №46                                        79.0  53.5  47.5  False\n",
            "МБОУ СОШ №48                                        38.5  55.0  44.0  False\n",
            "МБОУ СОШ №8 г.Моздок                                60.0  62.0  58.0  False\n",
            "МБОУ гимназия №4                                    81.0  40.0  45.5   True\n",
            "МБОУ гимназия №45                                   44.0  50.0  45.0  False\n",
            "МБОУ гимназия №5                                    73.0  75.0  75.0  False\n",
            "МБОУ лицей г.Владикавказ                            70.0  70.0  53.0  False\n",
            "МКОУ СОШ №6 г.Беслан                                49.5  52.0  52.5   True\n",
            "Пригородного района                                 42.0   7.0  68.0   True\n",
            "ФГКОУ СКСВУ                                         81.0  44.0  85.0   True\n",
            "ЧОУ  ВГЛ                                            64.0  64.0  85.0   True\n",
            "ЧОУ ВНСОШ                                           56.0  25.5  65.0   True\n",
            "г. Владикавказа                                     46.0  61.0  58.0  False\n"
          ]
        }
      ]
    },
    {
      "cell_type": "markdown",
      "source": [
        "Как мы видим в большинстве школ произошел рост баллов, что не может не радовать"
      ],
      "metadata": {
        "id": "ur9kQuP6Ypq2"
      }
    },
    {
      "cell_type": "markdown",
      "source": [
        "### Изучим зависимость между датой сдачи(основной день и резервный день) и количеством баллов"
      ],
      "metadata": {
        "id": "13zIwF7wJJy8"
      }
    },
    {
      "cell_type": "code",
      "source": [
        "df_21_inf['Дата'].value_counts()"
      ],
      "metadata": {
        "id": "jJBCt4KhftJg",
        "colab": {
          "base_uri": "https://localhost:8080/"
        },
        "outputId": "6e0f2b4f-d0ee-4349-f5ac-ab77364d8235"
      },
      "execution_count": 162,
      "outputs": [
        {
          "output_type": "execute_result",
          "data": {
            "text/plain": [
              "2021-06-24    173\n",
              "2021-06-25    133\n",
              "2021-07-02      8\n",
              "2021-07-14      1\n",
              "Name: Дата, dtype: int64"
            ]
          },
          "metadata": {},
          "execution_count": 162
        }
      ]
    },
    {
      "cell_type": "code",
      "source": [
        "df_20_inf['Дата'].value_counts()"
      ],
      "metadata": {
        "id": "VA7LIcOuftCS",
        "colab": {
          "base_uri": "https://localhost:8080/"
        },
        "outputId": "cce52bf1-84fa-4567-810c-da306fafc01d"
      },
      "execution_count": 163,
      "outputs": [
        {
          "output_type": "execute_result",
          "data": {
            "text/plain": [
              "2020-07-03    308\n",
              "2020-07-24      9\n",
              "2020-07-25      3\n",
              "Name: Дата, dtype: int64"
            ]
          },
          "metadata": {},
          "execution_count": 163
        }
      ]
    },
    {
      "cell_type": "code",
      "source": [
        "df_19_inf['Дата'].value_counts()"
      ],
      "metadata": {
        "id": "YVVAnY-8fs74",
        "colab": {
          "base_uri": "https://localhost:8080/"
        },
        "outputId": "1d189eb0-9588-4a65-a924-fba51653e8a2"
      },
      "execution_count": 164,
      "outputs": [
        {
          "output_type": "execute_result",
          "data": {
            "text/plain": [
              "2019-06-13    256\n",
              "2019-06-20     25\n",
              "2019-04-03      3\n",
              "2019-07-01      2\n",
              "Name: Дата, dtype: int64"
            ]
          },
          "metadata": {},
          "execution_count": 164
        }
      ]
    },
    {
      "cell_type": "code",
      "source": [
        ""
      ],
      "metadata": {
        "id": "xZCzb-ctfs0G"
      },
      "execution_count": 164,
      "outputs": []
    },
    {
      "cell_type": "code",
      "source": [
        "days_info(df_21_inf,'2021-06-24','2021-06-25')"
      ],
      "metadata": {
        "id": "juKHj6AKfUm5",
        "colab": {
          "base_uri": "https://localhost:8080/",
          "height": 0
        },
        "outputId": "56e6a15e-f0ae-459b-8c22-0e145020212e"
      },
      "execution_count": 165,
      "outputs": [
        {
          "output_type": "stream",
          "name": "stdout",
          "text": [
            "Медиана основного 58.0\n",
            "Медиана Резерв 58.0\n",
            "Среднее основного 57.66013071895425\n",
            "Среднее Резерв 46.44444444444444\n",
            "Дисперсия основного 436.01525768777424\n",
            "Дисперсия Резерв 1188.5277777777776\n",
            "Среднее отклонение основного 20.880978369984827\n",
            "Среднее отклонение Резерв 34.475031222288656\n"
          ]
        },
        {
          "output_type": "stream",
          "name": "stderr",
          "text": [
            "/usr/local/lib/python3.7/dist-packages/seaborn/distributions.py:2619: FutureWarning: `distplot` is a deprecated function and will be removed in a future version. Please adapt your code to use either `displot` (a figure-level function with similar flexibility) or `histplot` (an axes-level function for histograms).\n",
            "  warnings.warn(msg, FutureWarning)\n"
          ]
        },
        {
          "output_type": "display_data",
          "data": {
            "text/plain": [
              "<Figure size 432x288 with 1 Axes>"
            ],
            "image/png": "[encoded data removed]"
          },
          "metadata": {
            "needs_background": "light"
          }
        },
        {
          "output_type": "stream",
          "name": "stderr",
          "text": [
            "/usr/local/lib/python3.7/dist-packages/seaborn/distributions.py:2619: FutureWarning: `distplot` is a deprecated function and will be removed in a future version. Please adapt your code to use either `displot` (a figure-level function with similar flexibility) or `histplot` (an axes-level function for histograms).\n",
            "  warnings.warn(msg, FutureWarning)\n"
          ]
        },
        {
          "output_type": "display_data",
          "data": {
            "text/plain": [
              "<Figure size 432x288 with 1 Axes>"
            ],
            "image/png": "[encoded data removed]"
          },
          "metadata": {
            "needs_background": "light"
          }
        }
      ]
    },
    {
      "cell_type": "code",
      "source": [
        "days_info(df_20_inf,'2020-07-03')"
      ],
      "metadata": {
        "id": "I2CtQ1TbfTKn",
        "colab": {
          "base_uri": "https://localhost:8080/",
          "height": 0
        },
        "outputId": "8a3d4ed3-3b07-4daa-9dde-48a06bbfc347"
      },
      "execution_count": 166,
      "outputs": [
        {
          "output_type": "stream",
          "name": "stdout",
          "text": [
            "Медиана основного 53.0\n",
            "Медиана Резерв 68.0\n",
            "Среднее основного 51.76948051948052\n",
            "Среднее Резерв 63.666666666666664\n",
            "Дисперсия основного 451.2463619442439\n",
            "Дисперсия Резерв 1093.8787878787878\n",
            "Среднее отклонение основного 21.242560155128288\n",
            "Среднее отклонение Резерв 33.07383842070327\n"
          ]
        },
        {
          "output_type": "stream",
          "name": "stderr",
          "text": [
            "/usr/local/lib/python3.7/dist-packages/seaborn/distributions.py:2619: FutureWarning: `distplot` is a deprecated function and will be removed in a future version. Please adapt your code to use either `displot` (a figure-level function with similar flexibility) or `histplot` (an axes-level function for histograms).\n",
            "  warnings.warn(msg, FutureWarning)\n"
          ]
        },
        {
          "output_type": "display_data",
          "data": {
            "text/plain": [
              "<Figure size 432x288 with 1 Axes>"
            ],
            "image/png": "[encoded data removed]"
          },
          "metadata": {
            "needs_background": "light"
          }
        },
        {
          "output_type": "stream",
          "name": "stderr",
          "text": [
            "/usr/local/lib/python3.7/dist-packages/seaborn/distributions.py:2619: FutureWarning: `distplot` is a deprecated function and will be removed in a future version. Please adapt your code to use either `displot` (a figure-level function with similar flexibility) or `histplot` (an axes-level function for histograms).\n",
            "  warnings.warn(msg, FutureWarning)\n"
          ]
        },
        {
          "output_type": "display_data",
          "data": {
            "text/plain": [
              "<Figure size 432x288 with 1 Axes>"
            ],
            "image/png": "[encoded data removed]"
          },
          "metadata": {
            "needs_background": "light"
          }
        }
      ]
    },
    {
      "cell_type": "code",
      "source": [
        "days_info(df_19_inf,'2019-06-13')"
      ],
      "metadata": {
        "id": "MjWQZlhXJWu1",
        "colab": {
          "base_uri": "https://localhost:8080/",
          "height": 0
        },
        "outputId": "d70fbf37-95ee-4f28-bd5d-3c30ce3b1c83"
      },
      "execution_count": 167,
      "outputs": [
        {
          "output_type": "stream",
          "name": "stdout",
          "text": [
            "Медиана основного 55.0\n",
            "Медиана Резерв 44.0\n",
            "Среднее основного 54.72265625\n",
            "Среднее Резерв 43.9\n",
            "Дисперсия основного 475.4561121323529\n",
            "Дисперсия Резерв 622.0241379310346\n",
            "Среднее отклонение основного 21.804956136905044\n",
            "Среднее отклонение Резерв 24.940411743414234\n"
          ]
        },
        {
          "output_type": "stream",
          "name": "stderr",
          "text": [
            "/usr/local/lib/python3.7/dist-packages/seaborn/distributions.py:2619: FutureWarning: `distplot` is a deprecated function and will be removed in a future version. Please adapt your code to use either `displot` (a figure-level function with similar flexibility) or `histplot` (an axes-level function for histograms).\n",
            "  warnings.warn(msg, FutureWarning)\n"
          ]
        },
        {
          "output_type": "display_data",
          "data": {
            "text/plain": [
              "<Figure size 432x288 with 1 Axes>"
            ],
            "image/png": "[encoded data removed]"
          },
          "metadata": {
            "needs_background": "light"
          }
        },
        {
          "output_type": "stream",
          "name": "stderr",
          "text": [
            "/usr/local/lib/python3.7/dist-packages/seaborn/distributions.py:2619: FutureWarning: `distplot` is a deprecated function and will be removed in a future version. Please adapt your code to use either `displot` (a figure-level function with similar flexibility) or `histplot` (an axes-level function for histograms).\n",
            "  warnings.warn(msg, FutureWarning)\n"
          ]
        },
        {
          "output_type": "display_data",
          "data": {
            "text/plain": [
              "<Figure size 432x288 with 1 Axes>"
            ],
            "image/png": "[encoded data removed]"
          },
          "metadata": {
            "needs_background": "light"
          }
        }
      ]
    },
    {
      "cell_type": "markdown",
      "source": [
        "Ничего интересного тут нет, данные не выглядят нормально распределенными, а медианы очень близки друг к другу"
      ],
      "metadata": {
        "id": "JNMXZqBasJkg"
      }
    },
    {
      "cell_type": "markdown",
      "source": [
        "# Выводы"
      ],
      "metadata": {
        "id": "n7MXW760HmMa"
      }
    },
    {
      "cell_type": "markdown",
      "source": [
        "### Общие выводы и рекомендации по заданиям уровня B\n",
        "**Учителям особенно стоит обратить внимание / увеличить количество уроков на следующие темы:**\n",
        "\n",
        "1.   Знание о методах измерения количества информации\n",
        "2.   Умение анализировать результат исполнения алгоритма\n",
        "3.   Знание основных понятий и законов математической логики\n",
        "\n",
        "**Именно эти темы дети усваивают хуже остальных**\n",
        "\n",
        "\n",
        "\n",
        "\n",
        "\n",
        "\n",
        "\n",
        "\n"
      ],
      "metadata": {
        "id": "ARs3QaqiGbh-"
      }
    },
    {
      "cell_type": "markdown",
      "source": [
        "### Общие выводы и рекомендации по заданиям уровня С\n",
        "\n",
        "В 21 году по сравнению с 20 годым, дети стали программировать слабее намного слабее:\n",
        "\n",
        "Умение писать легкие программы(25 номер) упало на 15% (с 35% до 20).\n",
        "\n",
        "Умение писать программы среднего уровня упало на 18% (с 23% до 5%).\n",
        "\n",
        "\n",
        "---\n",
        "\n",
        "\n",
        "\n",
        "Когда как в 20 году наоборот произошел рост:\n",
        "\n",
        "Умение писать легкие программы(25 номер) выросло на 8% (с 27% до 35).\n",
        "\n",
        "Умение писать программы среднего уровня выросло на 3% (с 20% до 23%) по сравнению, с 20 годом.\n",
        "\n",
        "\n",
        "\n",
        "---\n",
        "\n",
        "\n",
        "\n",
        "**Поэтому в связи с этим, учителям особенно стоит обратить внимание / увеличить количество уроков на обучение детей программированию.**\n",
        "\n",
        "\n"
      ],
      "metadata": {
        "id": "nF7u8yXWH20o"
      }
    },
    {
      "cell_type": "markdown",
      "source": [
        "### Общие выводы и рекомендации по количествам учеников:\n",
        "**Всем регионам кроме: Кировского районa, г. Владикавказ и Правобережного района, следует повысить привлекательность информатики и программирования в целом. Особенно Моздоксому району**"
      ],
      "metadata": {
        "id": "344FD8aNFL9z"
      }
    },
    {
      "cell_type": "markdown",
      "source": [
        "### Общие выводы и рекомендации по регионам:\n",
        "Всем регионам кроме: Кировского районa, г. Владикавказ и Правобережного района, следует повысить привлекательность информатики и программирования в целом.\n",
        "\n",
        "Также на boxplot графиках видно, что медианный бал по каждой из зон в 21 году вырос, по сравнению с 19 годом:\n",
        "\n",
        "1.   г. Владикавказ: +2.5\n",
        "2.   Моздокский Район: +7\n",
        "3.  Все остальные районы: +6\n",
        "\n",
        "В 21 году г.Владикавказ все также обгоняет остальные Зоны по медианному баллу,однако следует отметить, что разрыв между Владикавказом и Моздокским районом значительно сократился по сравнению с 19 годом (с 8 до 3.5 баллов):\n",
        "\n",
        "1. г. Владикавказ: 61.5\n",
        "2. Моздкоский Район: 58.0\n",
        "3. Все остальные районы: 53.0\n",
        "\n",
        "Удивление вызывает медианный бал Маздокского района за 21 год, т.к по сравнению с 20 годом, если во всех остальных зонах, было замечен рост баллов, что логично исходя из выхода из ковидной ситуации, то в Маздокском районе, все было наоборот, уровень упал на 5 пунктов, когда как количество сдающих также упало на 20 человек. Вероятно это связано, с изменением регламента и тем, что местыные учителя не сумели перестроится также эффективно, как сделали это учителя других Зон\n",
        "\n",
        "\n",
        "Также на boxplot графиках видно, изменения максимального бал по каждой из зон:\n",
        "\n",
        "1.   г. Владикавказ: -2\n",
        "2.   Моздокский Район: 0\n",
        "3.  Все остальные районы: +9\n",
        "\n",
        "По максимальному значению Владикавказ обгоняет Моздокский район и все остальные на 10 и 8 баллов, соответсвенно.\n",
        "\n",
        "1. г. Владикавказ: 98.0\n",
        "2. Моздкоский Район: 88.0\n",
        "3. Все остальные районы: 90.0\n",
        "\n",
        "\n",
        "**Следует обратить особое внимание, на падение уровня подготовки сдающих из Моздоксого района, а также на все еще сильное отставание Всех остальных районов от г.Владкиавказ**\n",
        "\n",
        "\n"
      ],
      "metadata": {
        "id": "r3Q-3hPjGDjg"
      }
    },
    {
      "cell_type": "markdown",
      "source": [
        "### Общие выводы по школам:\n",
        "Всем регионам кроме: Кировского районa, г. Владикавказ и Правобережного района, следует повысить привлекательность информатики и программирования в целом.\n",
        "\n",
        "\n",
        "\n",
        "---\n",
        "\n",
        "Рост среднего и медианного количества баллов, в целом по годам, и в целом по большинству школ, как я считаю является следствием роста  уровеня подготовки детей, растущий из года в год в большинстве районов Республики, а также следствием выхода из ковидного сезона.\n",
        "\n",
        "\n",
        "\n",
        "---\n",
        "\n",
        "**Также большинству школ следует обратить вниманеи на падение количества сдающих этот экзамен детей**\n",
        "\n",
        "\n"
      ],
      "metadata": {
        "id": "4cCrppTAGD8X"
      }
    }
  ]
}